{
 "cells": [
  {
   "cell_type": "markdown",
   "metadata": {},
   "source": [
    "# Project: Identify Customer Segments\n",
    "\n",
    "In this project, you will apply unsupervised learning techniques to identify segments of the population that form the core customer base for a mail-order sales company in Germany. These segments can then be used to direct marketing campaigns towards audiences that will have the highest expected rate of returns. The data that you will use has been provided by our partners at Bertelsmann Arvato Analytics, and represents a real-life data science task.\n",
    "\n",
    "This notebook will help you complete this task by providing a framework within which you will perform your analysis steps. In each step of the project, you will see some text describing the subtask that you will perform, followed by one or more code cells for you to complete your work. **Feel free to add additional code and markdown cells as you go along so that you can explore everything in precise chunks.** The code cells provided in the base template will outline only the major tasks, and will usually not be enough to cover all of the minor tasks that comprise it.\n",
    "\n",
    "It should be noted that while there will be precise guidelines on how you should handle certain tasks in the project, there will also be places where an exact specification is not provided. **There will be times in the project where you will need to make and justify your own decisions on how to treat the data.** These are places where there may not be only one way to handle the data. In real-life tasks, there may be many valid ways to approach an analysis task. One of the most important things you can do is clearly document your approach so that other scientists can understand the decisions you've made.\n",
    "\n",
    "At the end of most sections, there will be a Markdown cell labeled **Discussion**. In these cells, you will report your findings for the completed section, as well as document the decisions that you made in your approach to each subtask. **Your project will be evaluated not just on the code used to complete the tasks outlined, but also your communication about your observations and conclusions at each stage.**"
   ]
  },
  {
   "cell_type": "code",
   "execution_count": 48,
   "metadata": {},
   "outputs": [
    {
     "data": {
      "text/plain": [
       "'\\nImport note: The classroom currently uses sklearn version 0.19.\\nIf you need to use an imputer, it is available in sklearn.preprocessing.Imputer,\\ninstead of sklearn.impute as in newer versions of sklearn.\\n'"
      ]
     },
     "execution_count": 48,
     "metadata": {},
     "output_type": "execute_result"
    }
   ],
   "source": [
    "# import libraries here; add more as necessary\n",
    "# pip install -U numpy\n",
    "import numpy as np\n",
    "import pandas as pd\n",
    "import matplotlib.mlab as mlab\n",
    "import matplotlib.pyplot as plt\n",
    "import seaborn as sns\n",
    "from sklearn.preprocessing import Imputer, StandardScaler\n",
    "from sklearn.decomposition import PCA\n",
    "from sklearn.cluster import KMeans\n",
    "\n",
    "# magic word for producing visualizations in notebook\n",
    "%matplotlib inline\n",
    "\n",
    "'''\n",
    "Import note: The classroom currently uses sklearn version 0.19.\n",
    "If you need to use an imputer, it is available in sklearn.preprocessing.Imputer,\n",
    "instead of sklearn.impute as in newer versions of sklearn.\n",
    "'''"
   ]
  },
  {
   "cell_type": "markdown",
   "metadata": {},
   "source": [
    "### Step 0: Load the Data\n",
    "\n",
    "There are four files associated with this project (not including this one):\n",
    "\n",
    "- `Udacity_AZDIAS_Subset.csv`: Demographics data for the general population of Germany; 891211 persons (rows) x 85 features (columns).\n",
    "- `Udacity_CUSTOMERS_Subset.csv`: Demographics data for customers of a mail-order company; 191652 persons (rows) x 85 features (columns).\n",
    "- `Data_Dictionary.md`: Detailed information file about the features in the provided datasets.\n",
    "- `AZDIAS_Feature_Summary.csv`: Summary of feature attributes for demographics data; 85 features (rows) x 4 columns\n",
    "\n",
    "Each row of the demographics files represents a single person, but also includes information outside of individuals, including information about their household, building, and neighborhood. You will use this information to cluster the general population into groups with similar demographic properties. Then, you will see how the people in the customers dataset fit into those created clusters. The hope here is that certain clusters are over-represented in the customers data, as compared to the general population; those over-represented clusters will be assumed to be part of the core userbase. This information can then be used for further applications, such as targeting for a marketing campaign.\n",
    "\n",
    "To start off with, load in the demographics data for the general population into a pandas DataFrame, and do the same for the feature attributes summary. Note for all of the `.csv` data files in this project: they're semicolon (`;`) delimited, so you'll need an additional argument in your [`read_csv()`](https://pandas.pydata.org/pandas-docs/stable/generated/pandas.read_csv.html) call to read in the data properly. Also, considering the size of the main dataset, it may take some time for it to load completely.\n",
    "\n",
    "Once the dataset is loaded, it's recommended that you take a little bit of time just browsing the general structure of the dataset and feature summary file. You'll be getting deep into the innards of the cleaning in the first major step of the project, so gaining some general familiarity can help you get your bearings."
   ]
  },
  {
   "cell_type": "code",
   "execution_count": 49,
   "metadata": {},
   "outputs": [],
   "source": [
    "# Load in the general demographics data.\n",
    "azdias = pd.read_csv('Udacity_AZDIAS_Subset.csv', sep=';')\n",
    "\n",
    "# Load in the feature summary file.\n",
    "feat_sum = pd.read_csv('AZDIAS_Feature_Summary.csv', sep=';')\n",
    "\n"
   ]
  },
  {
   "cell_type": "code",
   "execution_count": 50,
   "metadata": {},
   "outputs": [
    {
     "name": "stdout",
     "output_type": "stream",
     "text": [
      "<class 'pandas.core.frame.DataFrame'>\n",
      "RangeIndex: 891221 entries, 0 to 891220\n",
      "Data columns (total 85 columns):\n",
      "AGER_TYP                 891221 non-null int64\n",
      "ALTERSKATEGORIE_GROB     891221 non-null int64\n",
      "ANREDE_KZ                891221 non-null int64\n",
      "CJT_GESAMTTYP            886367 non-null float64\n",
      "FINANZ_MINIMALIST        891221 non-null int64\n",
      "FINANZ_SPARER            891221 non-null int64\n",
      "FINANZ_VORSORGER         891221 non-null int64\n",
      "FINANZ_ANLEGER           891221 non-null int64\n",
      "FINANZ_UNAUFFAELLIGER    891221 non-null int64\n",
      "FINANZ_HAUSBAUER         891221 non-null int64\n",
      "FINANZTYP                891221 non-null int64\n",
      "GEBURTSJAHR              891221 non-null int64\n",
      "GFK_URLAUBERTYP          886367 non-null float64\n",
      "GREEN_AVANTGARDE         891221 non-null int64\n",
      "HEALTH_TYP               891221 non-null int64\n",
      "LP_LEBENSPHASE_FEIN      886367 non-null float64\n",
      "LP_LEBENSPHASE_GROB      886367 non-null float64\n",
      "LP_FAMILIE_FEIN          886367 non-null float64\n",
      "LP_FAMILIE_GROB          886367 non-null float64\n",
      "LP_STATUS_FEIN           886367 non-null float64\n",
      "LP_STATUS_GROB           886367 non-null float64\n",
      "NATIONALITAET_KZ         891221 non-null int64\n",
      "PRAEGENDE_JUGENDJAHRE    891221 non-null int64\n",
      "RETOURTYP_BK_S           886367 non-null float64\n",
      "SEMIO_SOZ                891221 non-null int64\n",
      "SEMIO_FAM                891221 non-null int64\n",
      "SEMIO_REL                891221 non-null int64\n",
      "SEMIO_MAT                891221 non-null int64\n",
      "SEMIO_VERT               891221 non-null int64\n",
      "SEMIO_LUST               891221 non-null int64\n",
      "SEMIO_ERL                891221 non-null int64\n",
      "SEMIO_KULT               891221 non-null int64\n",
      "SEMIO_RAT                891221 non-null int64\n",
      "SEMIO_KRIT               891221 non-null int64\n",
      "SEMIO_DOM                891221 non-null int64\n",
      "SEMIO_KAEM               891221 non-null int64\n",
      "SEMIO_PFLICHT            891221 non-null int64\n",
      "SEMIO_TRADV              891221 non-null int64\n",
      "SHOPPER_TYP              891221 non-null int64\n",
      "SOHO_KZ                  817722 non-null float64\n",
      "TITEL_KZ                 817722 non-null float64\n",
      "VERS_TYP                 891221 non-null int64\n",
      "ZABEOTYP                 891221 non-null int64\n",
      "ALTER_HH                 817722 non-null float64\n",
      "ANZ_PERSONEN             817722 non-null float64\n",
      "ANZ_TITEL                817722 non-null float64\n",
      "HH_EINKOMMEN_SCORE       872873 non-null float64\n",
      "KK_KUNDENTYP             306609 non-null float64\n",
      "W_KEIT_KIND_HH           783619 non-null float64\n",
      "WOHNDAUER_2008           817722 non-null float64\n",
      "ANZ_HAUSHALTE_AKTIV      798073 non-null float64\n",
      "ANZ_HH_TITEL             794213 non-null float64\n",
      "GEBAEUDETYP              798073 non-null float64\n",
      "KONSUMNAEHE              817252 non-null float64\n",
      "MIN_GEBAEUDEJAHR         798073 non-null float64\n",
      "OST_WEST_KZ              798073 non-null object\n",
      "WOHNLAGE                 798073 non-null float64\n",
      "CAMEO_DEUG_2015          792242 non-null object\n",
      "CAMEO_DEU_2015           792242 non-null object\n",
      "CAMEO_INTL_2015          792242 non-null object\n",
      "KBA05_ANTG1              757897 non-null float64\n",
      "KBA05_ANTG2              757897 non-null float64\n",
      "KBA05_ANTG3              757897 non-null float64\n",
      "KBA05_ANTG4              757897 non-null float64\n",
      "KBA05_BAUMAX             757897 non-null float64\n",
      "KBA05_GBZ                757897 non-null float64\n",
      "BALLRAUM                 797481 non-null float64\n",
      "EWDICHTE                 797481 non-null float64\n",
      "INNENSTADT               797481 non-null float64\n",
      "GEBAEUDETYP_RASTER       798066 non-null float64\n",
      "KKK                      770025 non-null float64\n",
      "MOBI_REGIO               757897 non-null float64\n",
      "ONLINE_AFFINITAET        886367 non-null float64\n",
      "REGIOTYP                 770025 non-null float64\n",
      "KBA13_ANZAHL_PKW         785421 non-null float64\n",
      "PLZ8_ANTG1               774706 non-null float64\n",
      "PLZ8_ANTG2               774706 non-null float64\n",
      "PLZ8_ANTG3               774706 non-null float64\n",
      "PLZ8_ANTG4               774706 non-null float64\n",
      "PLZ8_BAUMAX              774706 non-null float64\n",
      "PLZ8_HHZ                 774706 non-null float64\n",
      "PLZ8_GBZ                 774706 non-null float64\n",
      "ARBEIT                   794005 non-null float64\n",
      "ORTSGR_KLS9              794005 non-null float64\n",
      "RELAT_AB                 794005 non-null float64\n",
      "dtypes: float64(49), int64(32), object(4)\n",
      "memory usage: 578.0+ MB\n",
      "Azdias \n",
      " (891221, 85) None\n"
     ]
    }
   ],
   "source": [
    "# Check the structure of the data after it's loaded (e.g. print the number of\n",
    "# rows and columns, print the first few rows).\n",
    "\n",
    "# data structure for Azdias \n",
    "az_shape = azdias.shape\n",
    "az_info = azdias.info()\n",
    "print('Azdias', \"\\n\", az_shape, az_info)"
   ]
  },
  {
   "cell_type": "code",
   "execution_count": 51,
   "metadata": {},
   "outputs": [
    {
     "name": "stdout",
     "output_type": "stream",
     "text": [
      "<class 'pandas.core.frame.DataFrame'>\n",
      "RangeIndex: 85 entries, 0 to 84\n",
      "Data columns (total 4 columns):\n",
      "attribute             85 non-null object\n",
      "information_level     85 non-null object\n",
      "type                  85 non-null object\n",
      "missing_or_unknown    85 non-null object\n",
      "dtypes: object(4)\n",
      "memory usage: 2.7+ KB\n",
      "<bound method NDFrame.head of                 attribute information_level         type missing_or_unknown\n",
      "0                AGER_TYP            person  categorical             [-1,0]\n",
      "1    ALTERSKATEGORIE_GROB            person      ordinal           [-1,0,9]\n",
      "2               ANREDE_KZ            person  categorical             [-1,0]\n",
      "3           CJT_GESAMTTYP            person  categorical                [0]\n",
      "4       FINANZ_MINIMALIST            person      ordinal               [-1]\n",
      "5           FINANZ_SPARER            person      ordinal               [-1]\n",
      "6        FINANZ_VORSORGER            person      ordinal               [-1]\n",
      "7          FINANZ_ANLEGER            person      ordinal               [-1]\n",
      "8   FINANZ_UNAUFFAELLIGER            person      ordinal               [-1]\n",
      "9        FINANZ_HAUSBAUER            person      ordinal               [-1]\n",
      "10              FINANZTYP            person  categorical               [-1]\n",
      "11            GEBURTSJAHR            person      numeric                [0]\n",
      "12        GFK_URLAUBERTYP            person  categorical                 []\n",
      "13       GREEN_AVANTGARDE            person  categorical                 []\n",
      "14             HEALTH_TYP            person      ordinal             [-1,0]\n",
      "15    LP_LEBENSPHASE_FEIN            person        mixed                [0]\n",
      "16    LP_LEBENSPHASE_GROB            person        mixed                [0]\n",
      "17        LP_FAMILIE_FEIN            person  categorical                [0]\n",
      "18        LP_FAMILIE_GROB            person  categorical                [0]\n",
      "19         LP_STATUS_FEIN            person  categorical                [0]\n",
      "20         LP_STATUS_GROB            person  categorical                [0]\n",
      "21       NATIONALITAET_KZ            person  categorical             [-1,0]\n",
      "22  PRAEGENDE_JUGENDJAHRE            person        mixed             [-1,0]\n",
      "23         RETOURTYP_BK_S            person      ordinal                [0]\n",
      "24              SEMIO_SOZ            person      ordinal             [-1,9]\n",
      "25              SEMIO_FAM            person      ordinal             [-1,9]\n",
      "26              SEMIO_REL            person      ordinal             [-1,9]\n",
      "27              SEMIO_MAT            person      ordinal             [-1,9]\n",
      "28             SEMIO_VERT            person      ordinal             [-1,9]\n",
      "29             SEMIO_LUST            person      ordinal             [-1,9]\n",
      "..                    ...               ...          ...                ...\n",
      "55            OST_WEST_KZ          building  categorical               [-1]\n",
      "56               WOHNLAGE          building        mixed               [-1]\n",
      "57        CAMEO_DEUG_2015     microcell_rr4  categorical             [-1,X]\n",
      "58         CAMEO_DEU_2015     microcell_rr4  categorical               [XX]\n",
      "59        CAMEO_INTL_2015     microcell_rr4        mixed            [-1,XX]\n",
      "60            KBA05_ANTG1     microcell_rr3      ordinal               [-1]\n",
      "61            KBA05_ANTG2     microcell_rr3      ordinal               [-1]\n",
      "62            KBA05_ANTG3     microcell_rr3      ordinal               [-1]\n",
      "63            KBA05_ANTG4     microcell_rr3      ordinal               [-1]\n",
      "64           KBA05_BAUMAX     microcell_rr3        mixed             [-1,0]\n",
      "65              KBA05_GBZ     microcell_rr3      ordinal             [-1,0]\n",
      "66               BALLRAUM          postcode      ordinal               [-1]\n",
      "67               EWDICHTE          postcode      ordinal               [-1]\n",
      "68             INNENSTADT          postcode      ordinal               [-1]\n",
      "69     GEBAEUDETYP_RASTER        region_rr1      ordinal                 []\n",
      "70                    KKK        region_rr1      ordinal             [-1,0]\n",
      "71             MOBI_REGIO        region_rr1      ordinal                 []\n",
      "72      ONLINE_AFFINITAET        region_rr1      ordinal                 []\n",
      "73               REGIOTYP        region_rr1      ordinal             [-1,0]\n",
      "74       KBA13_ANZAHL_PKW    macrocell_plz8      numeric                 []\n",
      "75             PLZ8_ANTG1    macrocell_plz8      ordinal               [-1]\n",
      "76             PLZ8_ANTG2    macrocell_plz8      ordinal               [-1]\n",
      "77             PLZ8_ANTG3    macrocell_plz8      ordinal               [-1]\n",
      "78             PLZ8_ANTG4    macrocell_plz8      ordinal               [-1]\n",
      "79            PLZ8_BAUMAX    macrocell_plz8        mixed             [-1,0]\n",
      "80               PLZ8_HHZ    macrocell_plz8      ordinal               [-1]\n",
      "81               PLZ8_GBZ    macrocell_plz8      ordinal               [-1]\n",
      "82                 ARBEIT         community      ordinal             [-1,9]\n",
      "83            ORTSGR_KLS9         community      ordinal             [-1,0]\n",
      "84               RELAT_AB         community      ordinal             [-1,9]\n",
      "\n",
      "[85 rows x 4 columns]>\n"
     ]
    }
   ],
   "source": [
    "# Check the structure of the data after it's loaded (e.g. print the number of\n",
    "# rows and columns, print the first few rows).\n",
    "\n",
    "# data structure for Azdias Feature Summary\n",
    "\n",
    "feat_shape = feat_sum.shape\n",
    "feat_sum_info = feat_sum.info()\n",
    "\n",
    "print(feat_sum.head)"
   ]
  },
  {
   "cell_type": "code",
   "execution_count": 52,
   "metadata": {},
   "outputs": [
    {
     "data": {
      "text/plain": [
       "(891221, 85)"
      ]
     },
     "execution_count": 52,
     "metadata": {},
     "output_type": "execute_result"
    }
   ],
   "source": [
    "# Check the structure of the data after it's loaded (e.g. print the number of\n",
    "# rows and columns, print the first few rows).\n",
    "\n",
    "\n",
    "# Azdias rows\n",
    "azdias.head()\n",
    "\n",
    "# using .shape for dimensions\n",
    "azdias.shape\n"
   ]
  },
  {
   "cell_type": "code",
   "execution_count": 53,
   "metadata": {},
   "outputs": [
    {
     "name": "stdout",
     "output_type": "stream",
     "text": [
      "<class 'pandas.core.frame.DataFrame'>\n",
      "RangeIndex: 85 entries, 0 to 84\n",
      "Data columns (total 4 columns):\n",
      "attribute             85 non-null object\n",
      "information_level     85 non-null object\n",
      "type                  85 non-null object\n",
      "missing_or_unknown    85 non-null object\n",
      "dtypes: object(4)\n",
      "memory usage: 2.7+ KB\n"
     ]
    }
   ],
   "source": [
    "feat_sum.info()\n"
   ]
  },
  {
   "cell_type": "code",
   "execution_count": 54,
   "metadata": {},
   "outputs": [
    {
     "data": {
      "text/plain": [
       "[-1]        26\n",
       "[-1,9]      17\n",
       "[-1,0]      16\n",
       "[0]         12\n",
       "[]          10\n",
       "[-1,XX]      1\n",
       "[-1,0,9]     1\n",
       "[-1,X]       1\n",
       "[XX]         1\n",
       "Name: missing_or_unknown, dtype: int64"
      ]
     },
     "execution_count": 54,
     "metadata": {},
     "output_type": "execute_result"
    }
   ],
   "source": [
    "feat_sum['missing_or_unknown'].value_counts()"
   ]
  },
  {
   "cell_type": "code",
   "execution_count": 55,
   "metadata": {
    "scrolled": false
   },
   "outputs": [
    {
     "data": {
      "text/html": [
       "<div>\n",
       "<style scoped>\n",
       "    .dataframe tbody tr th:only-of-type {\n",
       "        vertical-align: middle;\n",
       "    }\n",
       "\n",
       "    .dataframe tbody tr th {\n",
       "        vertical-align: top;\n",
       "    }\n",
       "\n",
       "    .dataframe thead th {\n",
       "        text-align: right;\n",
       "    }\n",
       "</style>\n",
       "<table border=\"1\" class=\"dataframe\">\n",
       "  <thead>\n",
       "    <tr style=\"text-align: right;\">\n",
       "      <th></th>\n",
       "      <th>attribute</th>\n",
       "      <th>information_level</th>\n",
       "      <th>type</th>\n",
       "      <th>missing_or_unknown</th>\n",
       "    </tr>\n",
       "  </thead>\n",
       "  <tbody>\n",
       "    <tr>\n",
       "      <th>0</th>\n",
       "      <td>AGER_TYP</td>\n",
       "      <td>person</td>\n",
       "      <td>categorical</td>\n",
       "      <td>[-1,0]</td>\n",
       "    </tr>\n",
       "    <tr>\n",
       "      <th>1</th>\n",
       "      <td>ALTERSKATEGORIE_GROB</td>\n",
       "      <td>person</td>\n",
       "      <td>ordinal</td>\n",
       "      <td>[-1,0,9]</td>\n",
       "    </tr>\n",
       "    <tr>\n",
       "      <th>2</th>\n",
       "      <td>ANREDE_KZ</td>\n",
       "      <td>person</td>\n",
       "      <td>categorical</td>\n",
       "      <td>[-1,0]</td>\n",
       "    </tr>\n",
       "    <tr>\n",
       "      <th>3</th>\n",
       "      <td>CJT_GESAMTTYP</td>\n",
       "      <td>person</td>\n",
       "      <td>categorical</td>\n",
       "      <td>[0]</td>\n",
       "    </tr>\n",
       "    <tr>\n",
       "      <th>4</th>\n",
       "      <td>FINANZ_MINIMALIST</td>\n",
       "      <td>person</td>\n",
       "      <td>ordinal</td>\n",
       "      <td>[-1]</td>\n",
       "    </tr>\n",
       "  </tbody>\n",
       "</table>\n",
       "</div>"
      ],
      "text/plain": [
       "              attribute information_level         type missing_or_unknown\n",
       "0              AGER_TYP            person  categorical             [-1,0]\n",
       "1  ALTERSKATEGORIE_GROB            person      ordinal           [-1,0,9]\n",
       "2             ANREDE_KZ            person  categorical             [-1,0]\n",
       "3         CJT_GESAMTTYP            person  categorical                [0]\n",
       "4     FINANZ_MINIMALIST            person      ordinal               [-1]"
      ]
     },
     "execution_count": 55,
     "metadata": {},
     "output_type": "execute_result"
    }
   ],
   "source": [
    "# Feature summary rows\n",
    "feat_sum.head()"
   ]
  },
  {
   "cell_type": "markdown",
   "metadata": {},
   "source": [
    "> **Tip**: Add additional cells to keep everything in reasonably-sized chunks! Keyboard shortcut `esc --> a` (press escape to enter command mode, then press the 'A' key) adds a new cell before the active cell, and `esc --> b` adds a new cell after the active cell. If you need to convert an active cell to a markdown cell, use `esc --> m` and to convert to a code cell, use `esc --> y`. \n",
    "\n",
    "## Step 1: Preprocessing\n",
    "\n",
    "### Step 1.1: Assess Missing Data\n",
    "\n",
    "The feature summary file contains a summary of properties for each demographics data column. You will use this file to help you make cleaning decisions during this stage of the project. First of all, you should assess the demographics data in terms of missing data. Pay attention to the following points as you perform your analysis, and take notes on what you observe. Make sure that you fill in the **Discussion** cell with your findings and decisions at the end of each step that has one!\n",
    "\n",
    "#### Step 1.1.1: Convert Missing Value Codes to NaNs\n",
    "The fourth column of the feature attributes summary (loaded in above as `feat_info`) documents the codes from the data dictionary that indicate missing or unknown data. While the file encodes this as a list (e.g. `[-1,0]`), this will get read in as a string object. You'll need to do a little bit of parsing to make use of it to identify and clean the data. Convert data that matches a 'missing' or 'unknown' value code into a numpy NaN value. You might want to see how much data takes on a 'missing' or 'unknown' code, and how much data is naturally missing, as a point of interest.\n",
    "\n",
    "**As one more reminder, you are encouraged to add additional cells to break up your analysis into manageable chunks.**"
   ]
  },
  {
   "cell_type": "code",
   "execution_count": 56,
   "metadata": {},
   "outputs": [
    {
     "name": "stdout",
     "output_type": "stream",
     "text": [
      "Total amount of naturally missing data: 4896838\n"
     ]
    }
   ],
   "source": [
    "#total number of naturally missing data\n",
    "nat_total = azdias.isnull().sum().sum()\n",
    "print('Total amount of naturally missing data: {}'.format(nat_total))\n"
   ]
  },
  {
   "cell_type": "code",
   "execution_count": 57,
   "metadata": {},
   "outputs": [],
   "source": [
    "# convert to NaNs\n",
    "for i in range(len(feat_sum)):    \n",
    "    mi_unk = feat_sum.iloc[i]['missing_or_unknown'] #locate column and values\n",
    "    mi_unk = mi_unk.strip('[').strip(']').split(',')# strip the brackets then split\n",
    "    mi_unk = [int(val) if (val!='' and val!='X' and val!='XX') else val for val in mi_unk]\n",
    "    # convert val to an integer if val != the 3 string values above else continue the loop\n",
    "    if mi_unk != ['']:\n",
    "        featsum_attrib = feat_sum.iloc[i]['attribute']\n",
    "        azdias = azdias.replace({featsum_attrib: mi_unk}, np.nan)"
   ]
  },
  {
   "cell_type": "markdown",
   "metadata": {},
   "source": []
  },
  {
   "cell_type": "code",
   "execution_count": 58,
   "metadata": {
    "scrolled": true
   },
   "outputs": [
    {
     "name": "stdout",
     "output_type": "stream",
     "text": [
      "Total amount of missing data after converting to NaNs: 8373929\n"
     ]
    }
   ],
   "source": [
    "azdias_clean = azdias\n",
    "nan_total = azdias_clean.isnull().sum().sum()\n",
    "print('Total amount of missing data after converting to NaNs: {}'.format(nan_total))"
   ]
  },
  {
   "cell_type": "markdown",
   "metadata": {},
   "source": [
    "\n",
    "\n"
   ]
  },
  {
   "cell_type": "markdown",
   "metadata": {},
   "source": [
    "#### Step 1.1.2: Assess Missing Data in Each Column\n",
    "\n",
    "How much missing data is present in each column? There are a few columns that are outliers in terms of the proportion of values that are missing. You will want to use matplotlib's [`hist()`](https://matplotlib.org/api/_as_gen/matplotlib.pyplot.hist.html) function to visualize the distribution of missing value counts to find these columns. Identify and document these columns. While some of these columns might have justifications for keeping or re-encoding the data, for this project you should just remove them from the dataframe. (Feel free to make remarks about these outlier columns in the discussion, however!)\n",
    "\n",
    "For the remaining features, are there any patterns in which columns have, or share, missing data?"
   ]
  },
  {
   "cell_type": "markdown",
   "metadata": {},
   "source": []
  },
  {
   "cell_type": "code",
   "execution_count": 59,
   "metadata": {},
   "outputs": [
    {
     "data": {
      "text/plain": [
       "AGER_TYP                 76.955435\n",
       "ALTERSKATEGORIE_GROB      0.323264\n",
       "ANREDE_KZ                 0.000000\n",
       "CJT_GESAMTTYP             0.544646\n",
       "FINANZ_MINIMALIST         0.000000\n",
       "FINANZ_SPARER             0.000000\n",
       "FINANZ_VORSORGER          0.000000\n",
       "FINANZ_ANLEGER            0.000000\n",
       "FINANZ_UNAUFFAELLIGER     0.000000\n",
       "FINANZ_HAUSBAUER          0.000000\n",
       "FINANZTYP                 0.000000\n",
       "GEBURTSJAHR              44.020282\n",
       "GFK_URLAUBERTYP           0.544646\n",
       "GREEN_AVANTGARDE          0.000000\n",
       "HEALTH_TYP               12.476816\n",
       "LP_LEBENSPHASE_FEIN      10.954859\n",
       "LP_LEBENSPHASE_GROB      10.611509\n",
       "LP_FAMILIE_FEIN           8.728699\n",
       "LP_FAMILIE_GROB           8.728699\n",
       "LP_STATUS_FEIN            0.544646\n",
       "LP_STATUS_GROB            0.544646\n",
       "NATIONALITAET_KZ         12.153551\n",
       "PRAEGENDE_JUGENDJAHRE    12.136608\n",
       "RETOURTYP_BK_S            0.544646\n",
       "SEMIO_SOZ                 0.000000\n",
       "SEMIO_FAM                 0.000000\n",
       "SEMIO_REL                 0.000000\n",
       "SEMIO_MAT                 0.000000\n",
       "SEMIO_VERT                0.000000\n",
       "SEMIO_LUST                0.000000\n",
       "                           ...    \n",
       "OST_WEST_KZ              10.451729\n",
       "WOHNLAGE                 10.451729\n",
       "CAMEO_DEUG_2015          11.147852\n",
       "CAMEO_DEU_2015           11.147852\n",
       "CAMEO_INTL_2015          11.147852\n",
       "KBA05_ANTG1              14.959701\n",
       "KBA05_ANTG2              14.959701\n",
       "KBA05_ANTG3              14.959701\n",
       "KBA05_ANTG4              14.959701\n",
       "KBA05_BAUMAX             53.468668\n",
       "KBA05_GBZ                14.959701\n",
       "BALLRAUM                 10.518154\n",
       "EWDICHTE                 10.518154\n",
       "INNENSTADT               10.518154\n",
       "GEBAEUDETYP_RASTER       10.452514\n",
       "KKK                      17.735668\n",
       "MOBI_REGIO               14.959701\n",
       "ONLINE_AFFINITAET         0.544646\n",
       "REGIOTYP                 17.735668\n",
       "KBA13_ANZAHL_PKW         11.871354\n",
       "PLZ8_ANTG1               13.073637\n",
       "PLZ8_ANTG2               13.073637\n",
       "PLZ8_ANTG3               13.073637\n",
       "PLZ8_ANTG4               13.073637\n",
       "PLZ8_BAUMAX              13.073637\n",
       "PLZ8_HHZ                 13.073637\n",
       "PLZ8_GBZ                 13.073637\n",
       "ARBEIT                   10.926022\n",
       "ORTSGR_KLS9              10.914689\n",
       "RELAT_AB                 10.926022\n",
       "Length: 85, dtype: float64"
      ]
     },
     "execution_count": 59,
     "metadata": {},
     "output_type": "execute_result"
    }
   ],
   "source": [
    "# Perform an assessment of how much missing data there is in each column of the\n",
    "# dataset.\n",
    "\n",
    "# testing with a copy df\n",
    "azdias_clean = azdias\n",
    "col_total = azdias_clean.isnull().sum()\n",
    "\n",
    "\n",
    "col_total_df = pd.DataFrame(col_total, columns=['Missing_Data'])\n",
    "md_per_col_df = pd.DataFrame(col_total, columns=['Missing_Data'])\n",
    "\n",
    "# md_per_col_df = col_total_df\n",
    "\n",
    "# ignore values < 1, get percentage of missing ['Percent_MD']\n",
    "\n",
    "md_per_col_df['Missing_Data'] = col_total_df.loc[col_total_df['Missing_Data'] > 0] \n",
    "\n",
    "# # convert to percent\n",
    "md_per_col = col_total / len(azdias_clean) * 100\n",
    "md_per_col_df.sort_values(by=['Missing_Data'], ascending=False)\n",
    "md_per_col\n",
    "# md_per_col_df.hist()\n",
    "# plt.show()\n",
    "# print(md_per_col_df)\n",
    "\n",
    "\n",
    "\n",
    "\n"
   ]
  },
  {
   "cell_type": "markdown",
   "metadata": {},
   "source": [
    "Discussion here for the above don't forget!"
   ]
  },
  {
   "cell_type": "code",
   "execution_count": 60,
   "metadata": {},
   "outputs": [
    {
     "data": {
      "image/png": "[encoded data removed]",
      "text/plain": [
       "<matplotlib.figure.Figure at 0x7f156f50add8>"
      ]
     },
     "metadata": {
      "needs_background": "light"
     },
     "output_type": "display_data"
    }
   ],
   "source": [
    "# Investigate patterns in the amount of missing data in each column.\n",
    "\n",
    "plt.hist(md_per_col, bins=100)\n",
    "plt.title('Total Percentage of Missing Data Per Column')\n",
    "plt.xlabel('Missing data(%)')\n",
    "plt.ylabel('Number of Columns')\n",
    "plt.grid(True)\n",
    "plt.show()\n",
    "\n",
    "# md_per_col.sort_values(ascending=True)\n"
   ]
  },
  {
   "cell_type": "markdown",
   "metadata": {},
   "source": [
    "Discussion here for the above don't forget!"
   ]
  },
  {
   "cell_type": "code",
   "execution_count": 61,
   "metadata": {},
   "outputs": [
    {
     "data": {
      "text/plain": [
       "W    629528\n",
       "O    168545\n",
       "Name: OST_WEST_KZ, dtype: int64"
      ]
     },
     "execution_count": 61,
     "metadata": {},
     "output_type": "execute_result"
    }
   ],
   "source": [
    "# Remove the outlier columns from the dataset. (You'll perform other data\n",
    "# engineering tasks such as re-encoding and imputation later.)\n",
    "\n",
    "# find the outlier columns\n",
    "md_outliers = md_per_col_df.query('Missing_Data > 20')\n",
    "\n",
    "\n",
    "azdias_cleaned_df = pd.DataFrame(azdias_clean)\n",
    "# feat_sum_cleaned_df =  pd.DataFrame(feat_sum)\n",
    "\n",
    "# drop the outlier columns\n",
    "azdias_cleaned_df = azdias_clean.drop(columns=['AGER_TYP', 'GEBURTSJAHR', 'TITEL_KZ', 'ALTER_HH', 'KK_KUNDENTYP', 'KBA05_BAUMAX'])\n",
    "# feat_sum_cleaned_df = feat_sum.drop(\n",
    "\n",
    "# # check the dimension again\n",
    "azdias_cleaned_df.shape\n",
    "\n",
    "\n",
    "azdias_cleaned_df['OST_WEST_KZ'].value_counts()"
   ]
  },
  {
   "cell_type": "markdown",
   "metadata": {},
   "source": [
    "#### Discussion 1.1.2: Assess Missing Data in Each Column\n",
    "\n",
    "(Double click this cell and replace this text with your own text, reporting your observations regarding the amount of missing data in each column. Are there any patterns in missing values? Which columns were removed from the dataset?)"
   ]
  },
  {
   "cell_type": "markdown",
   "metadata": {},
   "source": [
    "#### Step 1.1.3: Assess Missing Data in Each Row\n",
    "\n",
    "Now, you'll perform a similar assessment for the rows of the dataset. How much data is missing in each row? As with the columns, you should see some groups of points that have a very different numbers of missing values. Divide the data into two subsets: one for data points that are above some threshold for missing values, and a second subset for points below that threshold.\n",
    "\n",
    "In order to know what to do with the outlier rows, we should see if the distribution of data values on columns that are not missing data (or are missing very little data) are similar or different between the two groups. Select at least five of these columns and compare the distribution of values.\n",
    "- You can use seaborn's [`countplot()`](https://seaborn.pydata.org/generated/seaborn.countplot.html) function to create a bar chart of code frequencies and matplotlib's [`subplot()`](https://matplotlib.org/api/_as_gen/matplotlib.pyplot.subplot.html) function to put bar charts for the two subplots side by side.\n",
    "- To reduce repeated code, you might want to write a function that can perform this comparison, taking as one of its arguments a column to be compared.\n",
    "\n",
    "Depending on what you observe in your comparison, this will have implications on how you approach your conclusions later in the analysis. If the distributions of non-missing features look similar between the data with many missing values and the data with few or no missing values, then we could argue that simply dropping those points from the analysis won't present a major issue. On the other hand, if the data with many missing values looks very different from the data with few or no missing values, then we should make a note on those data as special. We'll revisit these data later on. **Either way, you should continue your analysis for now using just the subset of the data with few or no missing values.**"
   ]
  },
  {
   "cell_type": "code",
   "execution_count": 62,
   "metadata": {},
   "outputs": [
    {
     "data": {
      "image/png": "[encoded data removed]",
      "text/plain": [
       "<matplotlib.figure.Figure at 0x7f159b09c160>"
      ]
     },
     "metadata": {
      "needs_background": "light"
     },
     "output_type": "display_data"
    }
   ],
   "source": [
    "# How much data is missing in each row of the dataset?\n",
    "\n",
    "row_total = azdias_cleaned_df.isnull().sum(axis=1)\n",
    "plt.hist(row_total, bins=100)\n",
    "plt.xlabel('Percent of  missing values')\n",
    "plt.ylabel('Missing Row Data Count')\n",
    "plt.show()\n"
   ]
  },
  {
   "cell_type": "code",
   "execution_count": 63,
   "metadata": {},
   "outputs": [],
   "source": [
    "# Write code to divide the data into two subsets based on the number of missing\n",
    "# values in each row.\n",
    "\n",
    "row_total_count = azdias_cleaned_df.isnull().sum(axis=1)\n",
    "row_total_count.sort_values(ascending=False)\n",
    "\n",
    "# # find the min, max value\n",
    "max(row_total_count) \n",
    "# # 49 values missing\n",
    "\n",
    "min(row_total_count)\n",
    "# # 0 values missing\n",
    "\n",
    "subset_1 = azdias_cleaned_df[row_total_count <= 15]\n",
    "# subset_1 780153 rows with missing value count less or equal to 15\n",
    "\n",
    "subset_2 = azdias_cleaned_df[row_total_count > 15]\n",
    "# subset_2 111068 rows with missing value count greater than 15\n",
    "\n"
   ]
  },
  {
   "cell_type": "code",
   "execution_count": 64,
   "metadata": {},
   "outputs": [
    {
     "data": {
      "image/png": "[encoded data removed]",
      "text/plain": [
       "<matplotlib.figure.Figure at 0x7f159b0966a0>"
      ]
     },
     "metadata": {
      "needs_background": "light"
     },
     "output_type": "display_data"
    },
    {
     "data": {
      "image/png": "[encoded data removed]",
      "text/plain": [
       "<matplotlib.figure.Figure at 0x7f159b074f28>"
      ]
     },
     "metadata": {
      "needs_background": "light"
     },
     "output_type": "display_data"
    },
    {
     "data": {
      "image/png": "[encoded data removed]",
      "text/plain": [
       "<matplotlib.figure.Figure at 0x7f156f5852b0>"
      ]
     },
     "metadata": {
      "needs_background": "light"
     },
     "output_type": "display_data"
    },
    {
     "data": {
      "image/png": "[encoded data removed]",
      "text/plain": [
       "<matplotlib.figure.Figure at 0x7f159b0ba358>"
      ]
     },
     "metadata": {
      "needs_background": "light"
     },
     "output_type": "display_data"
    },
    {
     "data": {
      "image/png": "[encoded data removed]",
      "text/plain": [
       "<matplotlib.figure.Figure at 0x7f1558f49e48>"
      ]
     },
     "metadata": {
      "needs_background": "light"
     },
     "output_type": "display_data"
    }
   ],
   "source": [
    "# Compare the distribution of values for at  least five columns where there are\n",
    "# no or few missing values, between the two subsets.\n",
    "def sub1_sub2(col):\n",
    "    \n",
    "    fig, ax = plt.subplots(1, 2)\n",
    "    sns.countplot(subset_1.loc[:, col], ax=ax[0]).set_title('Less than 15')\n",
    "    sns.countplot(subset_2.loc[:, col], ax=ax[1]).set_title('More than 15')\n",
    "    fig.tight_layout()\n",
    "    \n",
    "    \n",
    "def subsets():    \n",
    "    \n",
    "    plot_columns = subset_1.columns[[9, 12, 22, 18, 38]]\n",
    "    \n",
    "    for col in plot_columns:\n",
    "        sub1_sub2(col)\n",
    "\n",
    "subsets()"
   ]
  },
  {
   "cell_type": "markdown",
   "metadata": {},
   "source": [
    "#### Discussion 1.1.3: Assess Missing Data in Each Row\n",
    "\n",
    "(Double-click this cell and replace this text with your own text, reporting your observations regarding missing data in rows. Are the data with lots of missing values are qualitatively different from data with few or no missing values?)"
   ]
  },
  {
   "cell_type": "markdown",
   "metadata": {},
   "source": [
    "### Step 1.2: Select and Re-Encode Features\n",
    "\n",
    "Checking for missing data isn't the only way in which you can prepare a dataset for analysis. Since the unsupervised learning techniques to be used will only work on data that is encoded numerically, you need to make a few encoding changes or additional assumptions to be able to make progress. In addition, while almost all of the values in the dataset are encoded using numbers, not all of them represent numeric values. Check the third column of the feature summary (`feat_info`) for a summary of types of measurement.\n",
    "- For numeric and interval data, these features can be kept without changes.\n",
    "- Most of the variables in the dataset are ordinal in nature. While ordinal values may technically be non-linear in spacing, make the simplifying assumption that the ordinal variables can be treated as being interval in nature (that is, kept without any changes).\n",
    "- Special handling may be necessary for the remaining two variable types: categorical, and 'mixed'.\n",
    "\n",
    "In the first two parts of this sub-step, you will perform an investigation of the categorical and mixed-type features and make a decision on each of them, whether you will keep, drop, or re-encode each. Then, in the last part, you will create a new data frame with only the selected and engineered columns.\n",
    "\n",
    "Data wrangling is often the trickiest part of the data analysis process, and there's a lot of it to be done here. But stick with it: once you're done with this step, you'll be ready to get to the machine learning parts of the project!"
   ]
  },
  {
   "cell_type": "code",
   "execution_count": 65,
   "metadata": {},
   "outputs": [
    {
     "data": {
      "text/plain": [
       "type\n",
       "categorical    21\n",
       "interval        1\n",
       "mixed           7\n",
       "numeric         7\n",
       "ordinal        49\n",
       "Name: attribute, dtype: int64"
      ]
     },
     "execution_count": 65,
     "metadata": {},
     "output_type": "execute_result"
    }
   ],
   "source": [
    "# How many features are there of each data type?\n",
    "feat_sum.groupby(['type'])['attribute'].count()"
   ]
  },
  {
   "cell_type": "markdown",
   "metadata": {},
   "source": [
    "#### Step 1.2.1: Re-Encode Categorical Features\n",
    "\n",
    "For categorical data, you would ordinarily need to encode the levels as dummy variables. Depending on the number of categories, perform one of the following:\n",
    "- For binary (two-level) categoricals that take numeric values, you can keep them without needing to do anything.\n",
    "- There is one binary variable that takes on non-numeric values. For this one, you need to re-encode the values as numbers or create a dummy variable.\n",
    "- For multi-level categoricals (three or more values), you can choose to encode the values using multiple dummy variables (e.g. via [OneHotEncoder](http://scikit-learn.org/stable/modules/generated/sklearn.preprocessing.OneHotEncoder.html)), or (to keep things straightforward) just drop them from the analysis. As always, document your choices in the Discussion section."
   ]
  },
  {
   "cell_type": "code",
   "execution_count": 66,
   "metadata": {},
   "outputs": [
    {
     "data": {
      "text/plain": [
       "array(['categorical', 'ordinal', 'numeric', 'mixed', 'interval'], dtype=object)"
      ]
     },
     "execution_count": 66,
     "metadata": {},
     "output_type": "execute_result"
    }
   ],
   "source": [
    "# Assess categorical variables: which are binary, which are multi-level, and\n",
    "# which one needs to be re-encoded?\n",
    "feat_sum['type'].unique()\n"
   ]
  },
  {
   "cell_type": "code",
   "execution_count": 67,
   "metadata": {},
   "outputs": [
    {
     "name": "stdout",
     "output_type": "stream",
     "text": [
      "exception handled\n",
      "exception handled\n",
      "exception handled\n",
      "Binary features: ['ANREDE_KZ', 'GREEN_AVANTGARDE'] \n",
      "\n",
      "Multi-level features: ['CJT_GESAMTTYP', 'FINANZTYP', 'GFK_URLAUBERTYP', 'LP_FAMILIE_FEIN', 'LP_FAMILIE_GROB', 'LP_STATUS_FEIN', 'LP_STATUS_GROB', 'NATIONALITAET_KZ', 'SHOPPER_TYP', 'SOHO_KZ', 'VERS_TYP', 'ZABEOTYP', 'GEBAEUDETYP', 'OST_WEST_KZ', 'CAMEO_DEUG_2015', 'CAMEO_DEU_2015']\n"
     ]
    }
   ],
   "source": [
    "# retrieving the categorical variables\n",
    "var_category = feat_sum.query('type == \"categorical\"')['attribute']\n",
    "\n",
    "# locate the binary and multi-level features, append to lists\n",
    "feature_binary=[]\n",
    "feature_multi=[]\n",
    "\n",
    "for feat in var_category:    \n",
    "    \n",
    "    try:\n",
    "        if (len(azdias_cleaned_df[feat].unique()) == 2):\n",
    "            feature_binary.append(feat)\n",
    "        elif (len(azdias_cleaned_df[feat].unique()) > 2):\n",
    "            feature_multi.append(feat)\n",
    "    except KeyError:\n",
    "        print(\"exception handled\")\n",
    "            \n",
    "             \n",
    "print(\"Binary features: {}\".format(feature_binary),'\\n')\n",
    "print(\"Multi-level features: {}\".format(feature_multi))\n",
    "\n"
   ]
  },
  {
   "cell_type": "code",
   "execution_count": 68,
   "metadata": {},
   "outputs": [
    {
     "name": "stderr",
     "output_type": "stream",
     "text": [
      "/opt/conda/lib/python3.6/site-packages/pandas/core/generic.py:5890: SettingWithCopyWarning: \n",
      "A value is trying to be set on a copy of a slice from a DataFrame\n",
      "\n",
      "See the caveats in the documentation: http://pandas.pydata.org/pandas-docs/stable/indexing.html#indexing-view-versus-copy\n",
      "  self._update_inplace(new_data)\n"
     ]
    }
   ],
   "source": [
    "# Re-encode categorical variable(s) to be kept in the analysis.\n",
    "# the other binary features take numeric data so 'OST_WEST_KZ' is the only column to encode\n",
    "\n",
    "# re-encoding the non-numeric variable in subset_1 (less than 15% missing row data)\n",
    "subset_1['OST_WEST_KZ'].replace({'W': 1, 'O': 2}, inplace=True)\n"
   ]
  },
  {
   "cell_type": "code",
   "execution_count": 69,
   "metadata": {},
   "outputs": [
    {
     "name": "stderr",
     "output_type": "stream",
     "text": [
      "/opt/conda/lib/python3.6/site-packages/pandas/core/frame.py:3697: SettingWithCopyWarning: \n",
      "A value is trying to be set on a copy of a slice from a DataFrame\n",
      "\n",
      "See the caveats in the documentation: http://pandas.pydata.org/pandas-docs/stable/indexing.html#indexing-view-versus-copy\n",
      "  errors=errors)\n"
     ]
    }
   ],
   "source": [
    "# dropping the multi-level features\n",
    "subset_1.drop(columns=feature_multi, inplace=True)  \n",
    "\n",
    "# checking the shape\n",
    "subset_1.shape\n",
    "\n",
    "# creating new cleaned and encoded_dataframe for the analysis\n",
    "azdias_cleaned_encoded = subset_1.copy(deep=True)\n",
    "\n"
   ]
  },
  {
   "cell_type": "code",
   "execution_count": 70,
   "metadata": {},
   "outputs": [
    {
     "data": {
      "text/plain": [
       "(792287, 63)"
      ]
     },
     "execution_count": 70,
     "metadata": {},
     "output_type": "execute_result"
    }
   ],
   "source": [
    "# checking the shape\n",
    "azdias_cleaned_encoded.shape\n"
   ]
  },
  {
   "cell_type": "markdown",
   "metadata": {},
   "source": [
    "#### Discussion 1.2.1: Re-Encode Categorical Features\n",
    "\n",
    "(Double-click this cell and replace this text with your own text, reporting your findings and decisions regarding categorical features. Which ones did you keep, which did you drop, and what engineering steps did you perform?)"
   ]
  },
  {
   "cell_type": "markdown",
   "metadata": {},
   "source": [
    "#### Step 1.2.2: Engineer Mixed-Type Features\n",
    "\n",
    "There are a handful of features that are marked as \"mixed\" in the feature summary that require special treatment in order to be included in the analysis. There are two in particular that deserve attention; the handling of the rest are up to your own choices:\n",
    "- \"PRAEGENDE_JUGENDJAHRE\" combines information on three dimensions: generation by decade, movement (mainstream vs. avantgarde), and nation (east vs. west). While there aren't enough levels to disentangle east from west, you should create two new variables to capture the other two dimensions: an interval-type variable for decade, and a binary variable for movement.\n",
    "- \"CAMEO_INTL_2015\" combines information on two axes: wealth and life stage. Break up the two-digit codes by their 'tens'-place and 'ones'-place digits into two new ordinal variables (which, for the purposes of this project, is equivalent to just treating them as their raw numeric values).\n",
    "- If you decide to keep or engineer new features around the other mixed-type features, make sure you note your steps in the Discussion section.\n",
    "\n",
    "Be sure to check `Data_Dictionary.md` for the details needed to finish these tasks."
   ]
  },
  {
   "cell_type": "code",
   "execution_count": 71,
   "metadata": {
    "scrolled": true
   },
   "outputs": [
    {
     "data": {
      "text/plain": [
       "array([ 14.,  15.,   8.,   3.,  10.,  11.,   5.,   9.,   6.,   4.,  nan,\n",
       "         2.,   1.,  12.,  13.,   7.])"
      ]
     },
     "execution_count": 71,
     "metadata": {},
     "output_type": "execute_result"
    }
   ],
   "source": [
    "# Investigate \"PRAEGENDE_JUGENDJAHRE\" and engineer two new variables.\n",
    "\n",
    "azdias_cleaned_encoded['PRAEGENDE_JUGENDJAHRE'].unique()\n"
   ]
  },
  {
   "cell_type": "code",
   "execution_count": 72,
   "metadata": {},
   "outputs": [],
   "source": [
    "# creating mixed features variables and dictionaries\n",
    "\n",
    "azdias_cleaned_encoded['DECADE'] = azdias_cleaned_encoded['PRAEGENDE_JUGENDJAHRE']\n",
    "azdias_cleaned_encoded['MOVEMENT'] = azdias_cleaned_encoded['PRAEGENDE_JUGENDJAHRE']\n",
    "\n",
    "mf_decade_dict = {1:1, 2:1, 3:2, 4:2, 5:3, 6:3, 7:3, 8:4, 9:4, 10:5, 11:5, 12:5, 13:5, 14:6, 15:6}\n",
    "mf_movement_dict = {1:1, 2:0, 3:1, 4:0, 5:1, 6:0, 7:0, 8:1, 9:0, 10:1, 11:0, 12:1, 13:0, 14:1, 15:0}\n"
   ]
  },
  {
   "cell_type": "code",
   "execution_count": 73,
   "metadata": {},
   "outputs": [],
   "source": [
    "# replacing the 'DECADE' and 'MOVEMENT' columns with values from the dictionaries\n",
    "\n",
    "azdias_cleaned_encoded['DECADE'].replace(mf_decade_dict, inplace=True)\n",
    "azdias_cleaned_encoded['MOVEMENT'].replace(mf_movement_dict, inplace=True)\n"
   ]
  },
  {
   "cell_type": "code",
   "execution_count": 74,
   "metadata": {},
   "outputs": [],
   "source": [
    "# Investigate \"CAMEO_INTL_2015\" and engineer two new variables.\n",
    "azdias_cleaned_encoded['WEALTH'] = azdias_cleaned_encoded['CAMEO_INTL_2015']\n",
    "azdias_cleaned_encoded['LIFE_STAGE'] = azdias_cleaned_encoded['CAMEO_INTL_2015']\n",
    "\n",
    "mf_wealth_dict = {'11':1, '12':1, '13':1, '14':1, '15':1, '21':2, '22':2, '23':2, '24':2, '25':2, '31':3, \n",
    "                  '32':3, '33':3, '34':3, '35':3, '41':4, '42':4, '43':4, '44':4, '45':4, '51':5, '52':5,\n",
    "                  '53':5, '54':5, '55':5}\n",
    "\n",
    "mf_lifestage_dict = {'11':1, '12':2, '13':3, '14':4, '15':5, '21':1, '22':2, '23':3, '24':4, '25':5, '31':1,\n",
    "                     '32':2, '33':3, '34':4, '35':5, '41':1, '42':2, '43':3, '44':4, '45':5, '51':1, '52':2,\n",
    "                     '53':3, '54':4, '55':5}"
   ]
  },
  {
   "cell_type": "code",
   "execution_count": 75,
   "metadata": {},
   "outputs": [],
   "source": [
    "# replacing the 'WEALTH' and 'LIFE_STAGE' columns with values from the dictionaries\n",
    "\n",
    "azdias_cleaned_encoded['WEALTH'].replace(mf_wealth_dict, inplace=True)\n",
    "azdias_cleaned_encoded['LIFE_STAGE'].replace(mf_lifestage_dict, inplace=True)\n"
   ]
  },
  {
   "cell_type": "code",
   "execution_count": 76,
   "metadata": {},
   "outputs": [
    {
     "data": {
      "text/plain": [
       "(792287, 67)"
      ]
     },
     "execution_count": 76,
     "metadata": {},
     "output_type": "execute_result"
    }
   ],
   "source": [
    "azdias_cleaned_encoded.shape"
   ]
  },
  {
   "cell_type": "markdown",
   "metadata": {},
   "source": [
    "#### Discussion 1.2.2: Engineer Mixed-Type Features\n",
    "\n",
    "The mixed feature columns of importance to this analysis are 'PRAEGENDE_JUAGENDJAHRE' and CAMEO_INTL_2015, since they were multi-dimensional. New feature variables were created to capture the DECADE and MOVEMENTThe rest of the mixed features I decided to drop."
   ]
  },
  {
   "cell_type": "markdown",
   "metadata": {},
   "source": [
    "#### Step 1.2.3: Complete Feature Selection\n",
    "\n",
    "In order to finish this step up, you need to make sure that your data frame now only has the columns that you want to keep. To summarize, the dataframe should consist of the following:\n",
    "- All numeric, interval, and ordinal type columns from the original dataset.\n",
    "- Binary categorical features (all numerically-encoded).\n",
    "- Engineered features from other multi-level categorical features and mixed features.\n",
    "\n",
    "Make sure that for any new columns that you have engineered, that you've excluded the original columns from the final dataset. Otherwise, their values will interfere with the analysis later on the project. For example, you should not keep \"PRAEGENDE_JUGENDJAHRE\", since its values won't be useful for the algorithm: only the values derived from it in the engineered features you created should be retained. As a reminder, your data should only be from **the subset with few or no missing values**."
   ]
  },
  {
   "cell_type": "code",
   "execution_count": 77,
   "metadata": {},
   "outputs": [
    {
     "data": {
      "text/plain": [
       "15      LP_LEBENSPHASE_FEIN\n",
       "16      LP_LEBENSPHASE_GROB\n",
       "22    PRAEGENDE_JUGENDJAHRE\n",
       "56                 WOHNLAGE\n",
       "59          CAMEO_INTL_2015\n",
       "64             KBA05_BAUMAX\n",
       "79              PLZ8_BAUMAX\n",
       "Name: attribute, dtype: object"
      ]
     },
     "execution_count": 77,
     "metadata": {},
     "output_type": "execute_result"
    }
   ],
   "source": [
    "# displaying mixed feature columns\n",
    "feat_sum.query('type == \"mixed\"')['attribute']"
   ]
  },
  {
   "cell_type": "code",
   "execution_count": 78,
   "metadata": {},
   "outputs": [],
   "source": [
    "# If there are other re-engineering tasks you need to perform, make sure you\n",
    "# take care of them here. (Dealing with missing data will come in step 2.1.)\n",
    "\n",
    "\n",
    "#  Now that we have engineered new features that have meaning in the form of four columns, we no longer need\n",
    "# 'PRAEGENDE_JUGENDJAHRE' and 'CAMEO_ITNL_2015' so we can drop them.\n",
    "\n",
    "# dropping 'PRAEGENDE_JUGENDJAHRE', CAMEO_ITNL_2015 and the remaining mixed feature columns from the analysis\n",
    "\n",
    "azdias_cleaned_encoded.drop(['PRAEGENDE_JUGENDJAHRE', 'LP_LEBENSPHASE_FEIN', 'LP_LEBENSPHASE_GROB', \\\n",
    "'WOHNLAGE', 'PLZ8_BAUMAX', 'CAMEO_INTL_2015'], axis=1, inplace=True)"
   ]
  },
  {
   "cell_type": "markdown",
   "metadata": {},
   "source": [
    "### Step 1.3: Create a Cleaning Function\n",
    "\n",
    "Even though you've finished cleaning up the general population demographics data, it's important to look ahead to the future and realize that you'll need to perform the same cleaning steps on the customer demographics data. In this substep, complete the function below to execute the main feature selection, encoding, and re-engineering steps you performed above. Then, when it comes to looking at the customer data in Step 3, you can just run this function on that DataFrame to get the trimmed dataset in a single step."
   ]
  },
  {
   "cell_type": "code",
   "execution_count": 79,
   "metadata": {},
   "outputs": [],
   "source": [
    "# loading the demographics data\n",
    "demo_df = pd.read_csv('Udacity_CUSTOMERS_Subset.csv', sep=';')\n",
    "\n",
    "def clean_data(df):\n",
    "    \"\"\"\n",
    "    Perform feature trimming, re-encoding, and engineering for demographics data    \n",
    "    INPUT: Demographics DataFrame\n",
    "    OUTPUT: Trimmed and cleaned demographics DataFrame   \"\"\"    \n",
    "     \n",
    "    # convert missing value codes into NaNs, ...\n",
    "    \n",
    "    #finding the total number of naturally missing data\n",
    "    demo_nat_missing = demo_df.isnull().sum().sum()    \n",
    "    \n",
    "    # replacing missing data with NaNs\n",
    "    \n",
    "    for i in range(len(feat_sum)):    \n",
    "        mi_unk = feat_sum.iloc[i]['missing_or_unknown'] #locate column and values\n",
    "        mi_unk = mi_unk.strip('[').strip(']').split(',')# strip the brackets then split\n",
    "        mi_unk = [int(val) if (val!='' and val!='X' and val!='XX') else val for val in mi_unk]    \n",
    "    if mi_unk != ['']:\n",
    "        featsum_attrib = feat_sum.iloc[i]['attribute']\n",
    "        demo_df = demo_df.replace({featsum_attrib: mi_unk}, np.nan)\n",
    "        demo_df_cleaned = demo_df\n",
    "    \n",
    "    # checking Nan result    \n",
    "    demo_df_nan = demo_df_cleaned.isnull().sum().sum()     \n",
    "    \n",
    "    # remove selected columns and rows, ...\n",
    "    \n",
    "    # REMOVING COLUMNS --\n",
    "    demo_df_cleaned = demo_df\n",
    "    col_total = demo_df_cleaned.isnull().sum()\n",
    "\n",
    "\n",
    "    col_total_df = pd.DataFrame(col_total, columns=['Missing_Data'])\n",
    "    md_per_col_df = pd.DataFrame(col_total, columns=['Missing_Data'])\n",
    "\n",
    "\n",
    "    md_per_col_df['Missing_Data'] = col_total_df.loc[col_total_df['Missing_Data'] > 0] \n",
    "\n",
    "    # convert to percent\n",
    "    md_per_col = col_total / len(demo_df_cleaned) * 100\n",
    "    md_per_col_df.sort_values(by=['Missing_Data'], ascending=False)\n",
    "    \n",
    "    # drop the outlier columns\n",
    "    demo_df_cleaned = demo_df.drop(columns=['AGER_TYP', 'GEBURTSJAHR', 'TITEL_KZ', 'ALTER_HH', 'KK_KUNDENTYP', 'KBA05_BAUMAX'])\n",
    "\n",
    "    # check the dimension again\n",
    "    demo_df_cleaned.shape \n",
    "    \n",
    "    # REMOVING ROWS --     \n",
    "    # dividing dataframe into subsets and removing rows by a threshold value\n",
    "    row_total_count = demo_df_cleaned.isnull().sum(axis=1)\n",
    "    row_total_count.sort_values(ascending=False)\n",
    "\n",
    "    demo_subset_1 = demo_df_cleaned[row_total_count <= 15]\n",
    "    # demo_subset_1  rows with missing value count less or equal to 15 == 141068\n",
    "\n",
    "    demo_subset_2 = demo_df_cleaned[row_total_count > 15]\n",
    "    # demo_subset_2  rows with missing value count greater than 15 == 50584   \n",
    "\n",
    "    \n",
    "    # select, re-encode, and engineer column values.\n",
    "     \n",
    "    feat_count = feat_sum.groupby(['type'])['attribute'].count()\n",
    "    print(\"Features per category: \", feat_count.to_dict())\n",
    "    # retrieving the categorical variables\n",
    "    var_category = feat_sum.query('type == \"categorical\"')['attribute']\n",
    "\n",
    "    # locating the binary and multi-level features, append to lists\n",
    "    feature_binary=[]\n",
    "    feature_multi=[]\n",
    "\n",
    "    for feat in var_category:    \n",
    "        try:\n",
    "            if (len(demo_df_cleaned[feat].unique()) == 2):\n",
    "                feature_binary.append(feat)\n",
    "            elif (len(demo_df_cleaned[feat].unique()) > 2):\n",
    "                feature_multi.append(feat)\n",
    "        except KeyError:\n",
    "            print(\"exception handled\")            \n",
    "             \n",
    "    print(\"Binary features: {}\".format(feature_binary),'\\n')\n",
    "    print(\"Multi-level features: {}\".format(feature_multi))\n",
    "    \n",
    "    # re-encoding the non-numeric variable in subset_1 (less than 15% missing row data)\n",
    "    demo_subset_1['OST_WEST_KZ'].replace({'W': 1, 'O': 2}, inplace=True)\n",
    "    \n",
    "    # dropping the multi-level features\n",
    "    demo_subset_1.drop(columns=feature_multi, inplace=True)  \n",
    "\n",
    "    # checking the shape\n",
    "    demo_subset_1.shape\n",
    "\n",
    "    # creating new cleaned and encoded_dataframe for the analysis\n",
    "    demo_cleaned_encoded = demo_subset_1.copy(deep=True)\n",
    "    \n",
    "    # ENGINEERING --\n",
    "    # Investigate \"PRAEGENDE_JUGENDJAHRE\" and engineer two new variables.\n",
    "\n",
    "    demo_cleaned_encoded['DECADE'] = demo_cleaned_encoded['PRAEGENDE_JUGENDJAHRE']\n",
    "    demo_cleaned_encoded['MOVEMENT'] = demo_cleaned_encoded['PRAEGENDE_JUGENDJAHRE']\n",
    "\n",
    "    mf_decade_dict = {1:1, 2:1, 3:2, 4:2, 5:3, 6:3, 7:3, 8:4, 9:4, 10:5, 11:5, 12:5, 13:5, 14:6, 15:6}\n",
    "    mf_movement_dict = {1:1, 2:0, 3:1, 4:0, 5:1, 6:0, 7:0, 8:1, 9:0, 10:1, 11:0, 12:1, 13:0, 14:1, 15:0}\n",
    "\n",
    "    # replacing the 'DECADE' and 'MOVEMENT' columns with values from the dictionaries\n",
    "    demo_cleaned_encoded['DECADE'].replace(mf_decade_dict, inplace=True)\n",
    "    demo_cleaned_encoded['MOVEMENT'].replace(mf_movement_dict, inplace=True)\n",
    "    \n",
    "    \n",
    "    # Investigate \"CAMEO_INTL_2015\" and engineer two new variables.\n",
    "    demo_cleaned_encoded['WEALTH'] = demo_cleaned_encoded['CAMEO_INTL_2015']\n",
    "    demo_cleaned_encoded['LIFE_STAGE'] = demo_cleaned_encoded['CAMEO_INTL_2015']\n",
    "\n",
    "    mf_wealth_dict = {'11':1, '12':1, '13':1, '14':1, '15':1, '21':2, '22':2, '23':2, '24':2, '25':2, '31':3, \n",
    "                  '32':3, '33':3, '34':3, '35':3, '41':4, '42':4, '43':4, '44':4, '45':4, '51':5, '52':5,\n",
    "                  '53':5, '54':5, '55':5}\n",
    "\n",
    "    mf_lifestage_dict = {'11':1, '12':2, '13':3, '14':4, '15':5, '21':1, '22':2, '23':3, '24':4, '25':5, '31':1,\n",
    "                     '32':2, '33':3, '34':4, '35':5, '41':1, '42':2, '43':3, '44':4, '45':5, '51':1, '52':2,\n",
    "                     '53':3, '54':4, '55':5}\n",
    "\n",
    "    # replacing the 'WEALTH' and 'LIFE_STAGE' columns with values from the dictionaries\n",
    "\n",
    "    demo_cleaned_encoded['WEALTH'].replace(mf_wealth_dict, inplace=True)\n",
    "    demo_cleaned_encoded['LIFE_STAGE'].replace(mf_lifestage_dict, inplace=True)\n",
    "    \n",
    "    # dropping 'PRAEGENDE_JUGENDJAHRE', CAMEO_ITNL_2015 and the remaining mixed feature \n",
    "    #columns from the analysis\n",
    "    demo_cleaned_encoded.drop(['PRAEGENDE_JUGENDJAHRE', 'LP_LEBENSPHASE_FEIN', 'LP_LEBENSPHASE_GROB', \\\n",
    "    'WOHNLAGE', 'PLZ8_BAUMAX', 'CAMEO_INTL_2015'], axis=1, inplace=True)    \n",
    "    \n",
    "    # Return the cleaned dataframe.\n",
    "    return demo_cleaned_encoded\n"
   ]
  },
  {
   "cell_type": "markdown",
   "metadata": {},
   "source": []
  },
  {
   "cell_type": "markdown",
   "metadata": {},
   "source": [
    "## Step 2: Feature Transformation\n",
    "\n",
    "### Step 2.1: Apply Feature Scaling\n",
    "\n",
    "Before we apply dimensionality reduction techniques to the data, we need to perform feature scaling so that the principal component vectors are not influenced by the natural differences in scale for features. Starting from this part of the project, you'll want to keep an eye on the [API reference page for sklearn](http://scikit-learn.org/stable/modules/classes.html) to help you navigate to all of the classes and functions that you'll need. In this substep, you'll need to check the following:\n",
    "\n",
    "- sklearn requires that data not have missing values in order for its estimators to work properly. So, before applying the scaler to your data, make sure that you've cleaned the DataFrame of the remaining missing values. This can be as simple as just removing all data points with missing data, or applying an [Imputer](https://scikit-learn.org/0.16/modules/generated/sklearn.preprocessing.Imputer.html) to replace all missing values. You might also try a more complicated procedure where you temporarily remove missing values in order to compute the scaling parameters before re-introducing those missing values and applying imputation. Think about how much missing data you have and what possible effects each approach might have on your analysis, and justify your decision in the discussion section below.\n",
    "- For the actual scaling function, a [StandardScaler](http://scikit-learn.org/stable/modules/generated/sklearn.preprocessing.StandardScaler.html) instance is suggested, scaling each feature to mean 0 and standard deviation 1.\n",
    "- For these classes, you can make use of the `.fit_transform()` method to both fit a procedure to the data as well as apply the transformation to the data at the same time. Don't forget to keep the fit sklearn objects handy, since you'll be applying them to the customer demographics data towards the end of the project."
   ]
  },
  {
   "cell_type": "code",
   "execution_count": 80,
   "metadata": {},
   "outputs": [
    {
     "data": {
      "text/plain": [
       "Index(['ALTERSKATEGORIE_GROB', 'ANREDE_KZ', 'FINANZ_MINIMALIST',\n",
       "       'FINANZ_SPARER', 'FINANZ_VORSORGER', 'FINANZ_ANLEGER',\n",
       "       'FINANZ_UNAUFFAELLIGER', 'FINANZ_HAUSBAUER', 'GREEN_AVANTGARDE',\n",
       "       'HEALTH_TYP', 'RETOURTYP_BK_S', 'SEMIO_SOZ', 'SEMIO_FAM', 'SEMIO_REL',\n",
       "       'SEMIO_MAT', 'SEMIO_VERT', 'SEMIO_LUST', 'SEMIO_ERL', 'SEMIO_KULT',\n",
       "       'SEMIO_RAT', 'SEMIO_KRIT', 'SEMIO_DOM', 'SEMIO_KAEM', 'SEMIO_PFLICHT',\n",
       "       'SEMIO_TRADV', 'ANZ_PERSONEN', 'ANZ_TITEL', 'HH_EINKOMMEN_SCORE',\n",
       "       'W_KEIT_KIND_HH', 'WOHNDAUER_2008', 'ANZ_HAUSHALTE_AKTIV',\n",
       "       'ANZ_HH_TITEL', 'KONSUMNAEHE', 'MIN_GEBAEUDEJAHR', 'KBA05_ANTG1',\n",
       "       'KBA05_ANTG2', 'KBA05_ANTG3', 'KBA05_ANTG4', 'KBA05_GBZ', 'BALLRAUM',\n",
       "       'EWDICHTE', 'INNENSTADT', 'GEBAEUDETYP_RASTER', 'KKK', 'MOBI_REGIO',\n",
       "       'ONLINE_AFFINITAET', 'REGIOTYP', 'KBA13_ANZAHL_PKW', 'PLZ8_ANTG1',\n",
       "       'PLZ8_ANTG2', 'PLZ8_ANTG3', 'PLZ8_ANTG4', 'PLZ8_HHZ', 'PLZ8_GBZ',\n",
       "       'ARBEIT', 'ORTSGR_KLS9', 'RELAT_AB', 'DECADE', 'MOVEMENT', 'WEALTH',\n",
       "       'LIFE_STAGE'],\n",
       "      dtype='object')"
      ]
     },
     "execution_count": 80,
     "metadata": {},
     "output_type": "execute_result"
    }
   ],
   "source": [
    "# If you've not yet cleaned the dataset of all NaN values, then investigate and\n",
    "# do that now.\n",
    "\n",
    "az_imp = Imputer(strategy=\"most_frequent\")\n",
    "azdias_cleaned_imp = pd.DataFrame(az_imp.fit_transform(azdias_cleaned_encoded))\n",
    "\n",
    "\n",
    "azdias_cleaned_imp.columns = azdias_cleaned_encoded.columns\n",
    "azdias_cleaned_imp.index = azdias_cleaned_encoded.index\n",
    "\n",
    "azdias_cleaned_imp.columns"
   ]
  },
  {
   "cell_type": "code",
   "execution_count": 81,
   "metadata": {},
   "outputs": [
    {
     "data": {
      "text/plain": [
       "(792287, 61)"
      ]
     },
     "execution_count": 81,
     "metadata": {},
     "output_type": "execute_result"
    }
   ],
   "source": [
    "# Apply feature scaling to the general population demographics data.\n",
    "scaler = StandardScaler()\n",
    "az_cleaned_scaled = scaler.fit_transform(azdias_cleaned_imp)\n",
    "\n",
    "columns_list = list(azdias_cleaned_imp.columns)\n",
    "az_cleaned_scaled = pd.DataFrame(az_cleaned_scaled, columns=columns_list)\n",
    "az_cleaned_scaled.shape"
   ]
  },
  {
   "cell_type": "markdown",
   "metadata": {},
   "source": [
    "### Discussion 2.1: Apply Feature Scaling\n",
    "\n",
    "(Double-click this cell and replace this text with your own text, reporting your decisions regarding feature scaling.)"
   ]
  },
  {
   "cell_type": "markdown",
   "metadata": {},
   "source": [
    "### Step 2.2: Perform Dimensionality Reduction\n",
    "\n",
    "On your scaled data, you are now ready to apply dimensionality reduction techniques.\n",
    "\n",
    "- Use sklearn's [PCA](http://scikit-learn.org/stable/modules/generated/sklearn.decomposition.PCA.html) class to apply principal component analysis on the data, thus finding the vectors of maximal variance in the data. To start, you should not set any parameters (so all components are computed) or set a number of components that is at least half the number of features (so there's enough features to see the general trend in variability).\n",
    "- Check out the ratio of variance explained by each principal component as well as the cumulative variance explained. Try plotting the cumulative or sequential values using matplotlib's [`plot()`](https://matplotlib.org/api/_as_gen/matplotlib.pyplot.plot.html) function. Based on what you find, select a value for the number of transformed features you'll retain for the clustering part of the project.\n",
    "- Once you've made a choice for the number of components to keep, make sure you re-fit a PCA instance to perform the decided-on transformation."
   ]
  },
  {
   "cell_type": "code",
   "execution_count": 82,
   "metadata": {},
   "outputs": [
    {
     "data": {
      "text/plain": [
       "array([[  4.01569176e+00,  -2.42132146e+00,  -2.89016617e+00, ...,\n",
       "         -2.03433193e-01,  -1.38166688e-01,   2.08320934e-14],\n",
       "       [ -8.75817482e-01,   3.11131046e-01,  -3.05526131e+00, ...,\n",
       "         -1.53616808e-01,  -1.29091906e-02,  -9.73647191e-14],\n",
       "       [ -3.79568445e+00,   1.32369283e+00,  -6.88582789e-01, ...,\n",
       "         -1.42664818e-01,  -7.06957994e-01,   6.74030807e-14],\n",
       "       ..., \n",
       "       [ -7.39179850e-01,  -3.19390133e+00,  -2.88685043e+00, ...,\n",
       "          1.83461860e-01,  -1.42334467e-01,  -1.41816030e-15],\n",
       "       [  5.91362564e+00,  -3.13659420e+00,   2.38093783e+00, ...,\n",
       "         -2.79511486e-01,   1.67550111e-01,   3.68415588e-16],\n",
       "       [ -7.80322499e-01,   1.03944511e+00,   3.11098667e+00, ...,\n",
       "         -6.19728364e-01,  -2.56085744e-01,  -5.42870906e-17]])"
      ]
     },
     "execution_count": 82,
     "metadata": {},
     "output_type": "execute_result"
    }
   ],
   "source": [
    "# Apply PCA to the data.\n",
    "az_pca = PCA()\n",
    "az_pca.fit_transform(az_cleaned_scaled)"
   ]
  },
  {
   "cell_type": "code",
   "execution_count": 83,
   "metadata": {},
   "outputs": [
    {
     "data": {
      "text/plain": [
       "array([[  4.01569181e+00,  -2.42132147e+00,  -2.89016548e+00, ...,\n",
       "          1.47717485e-01,  -7.09966966e-02,   7.99123164e-01],\n",
       "       [ -8.75817542e-01,   3.11130990e-01,  -3.05526064e+00, ...,\n",
       "         -6.77123330e-02,   7.82983816e-01,   4.15212699e-01],\n",
       "       [ -3.79568450e+00,   1.32369286e+00,  -6.88581105e-01, ...,\n",
       "         -1.22074476e+00,   2.39274115e-01,  -7.87476486e-01],\n",
       "       ..., \n",
       "       [ -7.39179854e-01,  -3.19390146e+00,  -2.88685061e+00, ...,\n",
       "          2.74259228e-01,  -2.14367481e-02,  -9.02975014e-01],\n",
       "       [  5.91362565e+00,  -3.13659420e+00,   2.38093664e+00, ...,\n",
       "         -4.56813130e-01,  -1.23204244e-03,  -2.36425238e-01],\n",
       "       [ -7.80322446e-01,   1.03944511e+00,   3.11098744e+00, ...,\n",
       "         -6.92491119e-01,   5.22495956e-02,  -3.09741429e-03]])"
      ]
     },
     "execution_count": 83,
     "metadata": {},
     "output_type": "execute_result"
    }
   ],
   "source": [
    "# Apply PCA to the data using 36 components.\n",
    "az_pca36 = PCA(36)\n",
    "az_pca36.fit_transform(az_cleaned_scaled)"
   ]
  },
  {
   "cell_type": "code",
   "execution_count": 84,
   "metadata": {},
   "outputs": [],
   "source": [
    "def scree_plot1(az_pca):    \n",
    "    num_components=len(az_pca.explained_variance_ratio_)\n",
    "    ind = np.arange(num_components)\n",
    "    vals = az_pca.explained_variance_ratio_\n",
    " \n",
    "    plt.figure(figsize=(20, 6))\n",
    "    ax = plt.subplot(111)\n",
    "    cumvals = np.cumsum(vals)\n",
    "    ax.bar(ind,vals)\n",
    "    ax.plot(ind,cumvals)\n",
    "\n",
    "    ax.xaxis.set_tick_params(width=0)\n",
    "    ax.yaxis.set_tick_params(width=2, length=12)\n",
    " \n",
    "    ax.set_xlabel(\"Principal Component\", fontsize=18)\n",
    "    ax.set_ylabel(\"Variance Explained (%)\", fontsize=18)\n",
    "    plt.title('Explained Variance Ratio Per Principal Component - Full Dataset', fontsize=24)\n",
    "    \n",
    "\n",
    "def scree_plot2(az_pca36):    \n",
    "    num_components=len(az_pca36.explained_variance_ratio_)\n",
    "    ind = np.arange(num_components)\n",
    "    vals = az_pca36.explained_variance_ratio_\n",
    " \n",
    "    plt.figure(figsize=(20, 6))\n",
    "    ax = plt.subplot(111)\n",
    "    cumvals = np.cumsum(vals)\n",
    "    ax.bar(ind,vals)\n",
    "    ax.plot(ind,cumvals)\n",
    "\n",
    "    ax.xaxis.set_tick_params(width=0)\n",
    "    ax.yaxis.set_tick_params(width=2, length=12)\n",
    " \n",
    "    ax.set_xlabel(\"Principal Component\", fontsize=18)\n",
    "    ax.set_ylabel(\"Variance Explained (%)\", fontsize=18)\n",
    "    plt.title('Explained Variance Per Principal Component - 36 Components', fontsize=24) \n"
   ]
  },
  {
   "cell_type": "code",
   "execution_count": 85,
   "metadata": {},
   "outputs": [
    {
     "data": {
      "image/png": "[encoded data removed]",
      "text/plain": [
       "<matplotlib.figure.Figure at 0x7f1558f41e48>"
      ]
     },
     "metadata": {
      "needs_background": "light"
     },
     "output_type": "display_data"
    },
    {
     "data": {
      "image/png": "[encoded data removed]",
      "text/plain": [
       "<matplotlib.figure.Figure at 0x7f1558f41d30>"
      ]
     },
     "metadata": {
      "needs_background": "light"
     },
     "output_type": "display_data"
    }
   ],
   "source": [
    "# Investigate the variance accounted for by each principal component.\n",
    "scree_plot1(az_pca)\n",
    "scree_plot2(az_pca36)  "
   ]
  },
  {
   "cell_type": "code",
   "execution_count": 86,
   "metadata": {},
   "outputs": [
    {
     "data": {
      "text/plain": [
       "array([[  4.01569175e+00,  -2.42132157e+00,  -2.89016576e+00, ...,\n",
       "          1.91389317e-01,   8.43936330e-02,  -9.49232215e-01],\n",
       "       [ -8.75817474e-01,   3.11131033e-01,  -3.05526114e+00, ...,\n",
       "         -3.75646167e-02,   7.21367810e-01,  -3.64187971e-01],\n",
       "       [ -3.79568446e+00,   1.32369285e+00,  -6.88582644e-01, ...,\n",
       "         -1.14121819e+00,  -8.77446595e-03,   6.48227630e-01],\n",
       "       ..., \n",
       "       [ -7.39179892e-01,  -3.19390129e+00,  -2.88685037e+00, ...,\n",
       "          3.14991506e-01,   4.22115358e-02,   8.50178997e-01],\n",
       "       [  5.91362563e+00,  -3.13659419e+00,   2.38093789e+00, ...,\n",
       "         -4.49514890e-01,   3.78968773e-02,  -1.12389470e-01],\n",
       "       [ -7.80322530e-01,   1.03944491e+00,   3.11098735e+00, ...,\n",
       "         -6.41123849e-01,   1.00149494e-01,   3.24583788e-03]])"
      ]
     },
     "execution_count": 86,
     "metadata": {},
     "output_type": "execute_result"
    }
   ],
   "source": [
    "# Reapply PCA to the data using 36 components.\n",
    "az_pca36 = PCA(36)\n",
    "az_pca36.fit_transform(az_cleaned_scaled)"
   ]
  },
  {
   "cell_type": "markdown",
   "metadata": {},
   "source": [
    "### Discussion 2.2: Perform Dimensionality Reduction\n",
    "\n"
   ]
  },
  {
   "cell_type": "markdown",
   "metadata": {},
   "source": [
    "### Step 2.3: Interpret Principal Components\n",
    "\n",
    "Now that we have our transformed principal components, it's a nice idea to check out the weight of each variable on the first few components to see if they can be interpreted in some fashion.\n",
    "\n",
    "As a reminder, each principal component is a unit vector that points in the direction of highest variance (after accounting for the variance captured by earlier principal components). The further a weight is from zero, the more the principal component is in the direction of the corresponding feature. If two features have large weights of the same sign (both positive or both negative), then increases in one tend expect to be associated with increases in the other. To contrast, features with different signs can be expected to show a negative correlation: increases in one variable should result in a decrease in the other.\n",
    "\n",
    "- To investigate the features, you should map each weight to their corresponding feature name, then sort the features according to weight. The most interesting features for each principal component, then, will be those at the beginning and end of the sorted list. Use the data dictionary document to help you understand these most prominent features, their relationships, and what a positive or negative value on the principal component might indicate.\n",
    "- You should investigate and interpret feature associations from the first three principal components in this substep. To help facilitate this, you should write a function that you can call at any time to print the sorted list of feature weights, for the *i*-th principal component. This might come in handy in the next step of the project, when you interpret the tendencies of the discovered clusters."
   ]
  },
  {
   "cell_type": "code",
   "execution_count": 87,
   "metadata": {},
   "outputs": [],
   "source": [
    "# Map weights for the first principal component to corresponding feature names\n",
    "# and then print the linked values, sorted by weight.\n",
    "# HINT: Try defining a function here or in a new cell that you can reuse in the\n",
    "# other cells.\n",
    "\n",
    "def az_pca_weights(pca, i):\n",
    "    pca = pd.DataFrame(pca.components_, columns=list(az_cleaned_scaled.columns))\n",
    "    weights = pca.iloc[i].sort_values(ascending=False)\n",
    "    return weights\n",
    "\n",
    "\n"
   ]
  },
  {
   "cell_type": "code",
   "execution_count": 113,
   "metadata": {},
   "outputs": [
    {
     "name": "stdout",
     "output_type": "stream",
     "text": [
      "Top 5 Weights\n",
      " \n",
      " PLZ8_ANTG3            0.224851\n",
      "PLZ8_ANTG4            0.216497\n",
      "WEALTH                0.204553\n",
      "HH_EINKOMMEN_SCORE    0.202347\n",
      "ORTSGR_KLS9           0.196489\n",
      "Name: 0, dtype: float64 \n",
      "\n",
      "Bottom 5 Weights\n",
      " \n",
      " MOBI_REGIO          -0.226110\n",
      "PLZ8_ANTG1          -0.224606\n",
      "FINANZ_MINIMALIST   -0.223904\n",
      "KBA05_GBZ           -0.215805\n",
      "KBA05_ANTG1         -0.214862\n",
      "Name: 0, dtype: float64 \n",
      "\n",
      "All Weights\n",
      " \n",
      " PLZ8_ANTG3               0.224851\n",
      "PLZ8_ANTG4               0.216497\n",
      "WEALTH                   0.204553\n",
      "HH_EINKOMMEN_SCORE       0.202347\n",
      "ORTSGR_KLS9              0.196489\n",
      "EWDICHTE                 0.194869\n",
      "FINANZ_HAUSBAUER         0.158606\n",
      "FINANZ_SPARER            0.154752\n",
      "PLZ8_ANTG2               0.154350\n",
      "KBA05_ANTG4              0.153399\n",
      "ARBEIT                   0.140573\n",
      "KBA05_ANTG3              0.136563\n",
      "ANZ_HAUSHALTE_AKTIV      0.135503\n",
      "RELAT_AB                 0.134938\n",
      "SEMIO_PFLICHT            0.123027\n",
      "SEMIO_REL                0.120284\n",
      "DECADE                   0.114043\n",
      "MOVEMENT                 0.109964\n",
      "SEMIO_RAT                0.101297\n",
      "SEMIO_TRADV              0.095512\n",
      "SEMIO_MAT                0.084485\n",
      "FINANZ_UNAUFFAELLIGER    0.083926\n",
      "SEMIO_FAM                0.082246\n",
      "SEMIO_KULT               0.076897\n",
      "FINANZ_ANLEGER           0.075567\n",
      "REGIOTYP                 0.060763\n",
      "SEMIO_SOZ                0.043494\n",
      "PLZ8_HHZ                 0.042814\n",
      "HEALTH_TYP               0.040509\n",
      "KKK                      0.039286\n",
      "                           ...   \n",
      "W_KEIT_KIND_HH           0.035661\n",
      "ANZ_HH_TITEL             0.033616\n",
      "SEMIO_DOM                0.023639\n",
      "KBA05_ANTG2              0.014241\n",
      "ANREDE_KZ                0.007364\n",
      "SEMIO_KRIT               0.003264\n",
      "ANZ_TITEL               -0.004362\n",
      "RETOURTYP_BK_S          -0.022702\n",
      "SEMIO_VERT              -0.040279\n",
      "ONLINE_AFFINITAET       -0.040323\n",
      "MIN_GEBAEUDEJAHR        -0.046952\n",
      "WOHNDAUER_2008          -0.062765\n",
      "KBA13_ANZAHL_PKW        -0.073663\n",
      "ANZ_PERSONEN            -0.077995\n",
      "SEMIO_LUST              -0.078471\n",
      "SEMIO_ERL               -0.081676\n",
      "GREEN_AVANTGARDE        -0.109964\n",
      "GEBAEUDETYP_RASTER      -0.117086\n",
      "FINANZ_VORSORGER        -0.120910\n",
      "LIFE_STAGE              -0.125925\n",
      "ALTERSKATEGORIE_GROB    -0.127281\n",
      "BALLRAUM                -0.127357\n",
      "INNENSTADT              -0.164260\n",
      "PLZ8_GBZ                -0.165122\n",
      "KONSUMNAEHE             -0.167623\n",
      "KBA05_ANTG1             -0.214862\n",
      "KBA05_GBZ               -0.215805\n",
      "FINANZ_MINIMALIST       -0.223904\n",
      "PLZ8_ANTG1              -0.224606\n",
      "MOBI_REGIO              -0.226110\n",
      "Name: 0, Length: 61, dtype: float64\n"
     ]
    }
   ],
   "source": [
    "# assigning variables to function\n",
    "pca_wt0 = az_pca_weights(az_pca36, 0)\n",
    "pca_wt1 = az_pca_weights(az_pca36, 1)\n",
    "pca_wt2 = az_pca_weights(az_pca36, 2)\n",
    "\n",
    "# top 5 ranked features\n",
    "pca_wt0_top5 = pca_wt0.nlargest()\n",
    "pca_wt1_top5 = pca_wt1.nlargest()\n",
    "pca_wt2_top5 = pca_wt2.nlargest()\n",
    "\n",
    "# bottom 5\n",
    "pca_wt0_bottom5 = pca_wt0.nsmallest()\n",
    "pca_wt1_bottom5 = pca_wt1.nsmallest()\n",
    "pca_wt2_bottom5 = pca_wt2.nsmallest()\n",
    "\n",
    "print(\"Top 5 Weights\\n\",\"\\n\",pca_wt0_top5,\"\\n\")\n",
    "print(\"Bottom 5 Weights\\n\",\"\\n\",pca_wt0_bottom5,\"\\n\")\n",
    "print(\"All Weights\\n\",\"\\n\",pca_wt0)"
   ]
  },
  {
   "cell_type": "code",
   "execution_count": 112,
   "metadata": {
    "scrolled": true
   },
   "outputs": [
    {
     "name": "stdout",
     "output_type": "stream",
     "text": [
      "Top 5 Weights\n",
      " \n",
      " ALTERSKATEGORIE_GROB    0.255633\n",
      "SEMIO_ERL               0.229592\n",
      "FINANZ_VORSORGER        0.228839\n",
      "SEMIO_LUST              0.179318\n",
      "RETOURTYP_BK_S          0.162058\n",
      "Name: 1, dtype: float64 \n",
      "\n",
      "Bottom 5 Weights\n",
      " \n",
      " SEMIO_REL       -0.253122\n",
      "DECADE          -0.238094\n",
      "FINANZ_SPARER   -0.230560\n",
      "SEMIO_TRADV     -0.227391\n",
      "SEMIO_PFLICHT   -0.224708\n",
      "Name: 1, dtype: float64 \n",
      "\n",
      "All Weights\n",
      " \n",
      " ALTERSKATEGORIE_GROB     0.255633\n",
      "SEMIO_ERL                0.229592\n",
      "FINANZ_VORSORGER         0.228839\n",
      "SEMIO_LUST               0.179318\n",
      "RETOURTYP_BK_S           0.162058\n",
      "FINANZ_HAUSBAUER         0.122184\n",
      "SEMIO_KRIT               0.118327\n",
      "SEMIO_KAEM               0.117109\n",
      "W_KEIT_KIND_HH           0.114882\n",
      "PLZ8_ANTG3               0.100993\n",
      "EWDICHTE                 0.099919\n",
      "ORTSGR_KLS9              0.098362\n",
      "PLZ8_ANTG4               0.097460\n",
      "ANREDE_KZ                0.093773\n",
      "WEALTH                   0.081214\n",
      "KBA05_ANTG4              0.076246\n",
      "SEMIO_DOM                0.074457\n",
      "ARBEIT                   0.071630\n",
      "PLZ8_ANTG2               0.070547\n",
      "RELAT_AB                 0.070416\n",
      "ANZ_HAUSHALTE_AKTIV      0.067275\n",
      "HH_EINKOMMEN_SCORE       0.062708\n",
      "FINANZ_MINIMALIST        0.057721\n",
      "WOHNDAUER_2008           0.057027\n",
      "KBA05_ANTG3              0.051370\n",
      "ANZ_HH_TITEL             0.032312\n",
      "MOVEMENT                 0.018713\n",
      "PLZ8_HHZ                 0.016256\n",
      "REGIOTYP                 0.013303\n",
      "ANZ_TITEL                0.006813\n",
      "                           ...   \n",
      "KBA05_ANTG2             -0.001883\n",
      "LIFE_STAGE              -0.003067\n",
      "GREEN_AVANTGARDE        -0.018713\n",
      "KBA13_ANZAHL_PKW        -0.036427\n",
      "GEBAEUDETYP_RASTER      -0.048075\n",
      "MIN_GEBAEUDEJAHR        -0.048875\n",
      "HEALTH_TYP              -0.057986\n",
      "ANZ_PERSONEN            -0.065263\n",
      "BALLRAUM                -0.066159\n",
      "SEMIO_VERT              -0.073144\n",
      "KONSUMNAEHE             -0.076360\n",
      "PLZ8_GBZ                -0.076446\n",
      "KBA05_ANTG1             -0.077775\n",
      "INNENSTADT              -0.081104\n",
      "MOBI_REGIO              -0.085026\n",
      "KBA05_GBZ               -0.094792\n",
      "PLZ8_ANTG1              -0.098420\n",
      "SEMIO_SOZ               -0.103504\n",
      "SEMIO_MAT               -0.159919\n",
      "ONLINE_AFFINITAET       -0.165541\n",
      "SEMIO_RAT               -0.165823\n",
      "SEMIO_FAM               -0.183629\n",
      "FINANZ_ANLEGER          -0.202974\n",
      "SEMIO_KULT              -0.219678\n",
      "FINANZ_UNAUFFAELLIGER   -0.223951\n",
      "SEMIO_PFLICHT           -0.224708\n",
      "SEMIO_TRADV             -0.227391\n",
      "FINANZ_SPARER           -0.230560\n",
      "DECADE                  -0.238094\n",
      "SEMIO_REL               -0.253122\n",
      "Name: 1, Length: 61, dtype: float64\n"
     ]
    }
   ],
   "source": [
    "# Map weights for the second principal component to corresponding feature names\n",
    "# and then print the linked values, sorted by weight.\n",
    "print(\"Top 5 Weights\\n\",\"\\n\", pca_wt1_top5,\"\\n\")\n",
    "print(\"Bottom 5 Weights\\n\",\"\\n\", pca_wt1_bottom5,\"\\n\")\n",
    "print(\"All Weights\\n\",\"\\n\", pca_wt1)\n"
   ]
  },
  {
   "cell_type": "code",
   "execution_count": 111,
   "metadata": {
    "scrolled": true
   },
   "outputs": [
    {
     "name": "stdout",
     "output_type": "stream",
     "text": [
      "Top 5 Weights\n",
      " \n",
      " SEMIO_VERT           0.344895\n",
      "SEMIO_SOZ            0.262204\n",
      "SEMIO_FAM            0.248946\n",
      "SEMIO_KULT           0.233494\n",
      "FINANZ_MINIMALIST    0.154353\n",
      "Name: 2, dtype: float64 \n",
      "\n",
      "Bottom 5 Weights\n",
      " \n",
      " ANREDE_KZ    -0.367401\n",
      "SEMIO_KAEM   -0.334994\n",
      "SEMIO_DOM    -0.312723\n",
      "SEMIO_KRIT   -0.274327\n",
      "SEMIO_RAT    -0.217533\n",
      "Name: 2, dtype: float64 \n",
      "\n",
      "All Weights\n",
      " \n",
      " SEMIO_VERT               0.344895\n",
      "SEMIO_SOZ                0.262204\n",
      "SEMIO_FAM                0.248946\n",
      "SEMIO_KULT               0.233494\n",
      "FINANZ_MINIMALIST        0.154353\n",
      "RETOURTYP_BK_S           0.109559\n",
      "FINANZ_VORSORGER         0.102152\n",
      "W_KEIT_KIND_HH           0.085411\n",
      "ALTERSKATEGORIE_GROB     0.079678\n",
      "SEMIO_REL                0.068178\n",
      "SEMIO_LUST               0.064554\n",
      "SEMIO_MAT                0.055248\n",
      "ORTSGR_KLS9              0.051094\n",
      "EWDICHTE                 0.050622\n",
      "PLZ8_ANTG4               0.049306\n",
      "PLZ8_ANTG3               0.049142\n",
      "GREEN_AVANTGARDE         0.047906\n",
      "ARBEIT                   0.036565\n",
      "RELAT_AB                 0.034762\n",
      "PLZ8_ANTG2               0.033810\n",
      "WOHNDAUER_2008           0.032492\n",
      "WEALTH                   0.030371\n",
      "KBA05_ANTG4              0.030070\n",
      "ANZ_HAUSHALTE_AKTIV      0.026909\n",
      "ANZ_HH_TITEL             0.013999\n",
      "KBA05_ANTG3              0.011809\n",
      "ANZ_TITEL                0.009771\n",
      "PLZ8_HHZ                 0.006105\n",
      "KBA05_ANTG2             -0.006832\n",
      "REGIOTYP                -0.007216\n",
      "                           ...   \n",
      "ANZ_PERSONEN            -0.010802\n",
      "KKK                     -0.015895\n",
      "HH_EINKOMMEN_SCORE      -0.016806\n",
      "MIN_GEBAEUDEJAHR        -0.018729\n",
      "KBA05_ANTG1             -0.022844\n",
      "KBA13_ANZAHL_PKW        -0.023006\n",
      "MOBI_REGIO              -0.027971\n",
      "KBA05_GBZ               -0.029561\n",
      "GEBAEUDETYP_RASTER      -0.032324\n",
      "HEALTH_TYP              -0.032527\n",
      "BALLRAUM                -0.038036\n",
      "PLZ8_GBZ                -0.040423\n",
      "FINANZ_HAUSBAUER        -0.040537\n",
      "KONSUMNAEHE             -0.041263\n",
      "INNENSTADT              -0.046427\n",
      "MOVEMENT                -0.047906\n",
      "PLZ8_ANTG1              -0.049713\n",
      "ONLINE_AFFINITAET       -0.055688\n",
      "SEMIO_TRADV             -0.079293\n",
      "SEMIO_PFLICHT           -0.079987\n",
      "FINANZ_UNAUFFAELLIGER   -0.100227\n",
      "FINANZ_SPARER           -0.106968\n",
      "DECADE                  -0.111644\n",
      "SEMIO_ERL               -0.174810\n",
      "FINANZ_ANLEGER          -0.191589\n",
      "SEMIO_RAT               -0.217533\n",
      "SEMIO_KRIT              -0.274327\n",
      "SEMIO_DOM               -0.312723\n",
      "SEMIO_KAEM              -0.334994\n",
      "ANREDE_KZ               -0.367401\n",
      "Name: 2, Length: 61, dtype: float64\n"
     ]
    }
   ],
   "source": [
    "# Map weights for the third principal component to corresponding feature names\n",
    "# and then print the linked values, sorted by weight.\n",
    "\n",
    "print(\"Top 5 Weights\\n\",\"\\n\", pca_wt2_top5,\"\\n\")\n",
    "print(\"Bottom 5 Weights\\n\",\"\\n\", pca_wt2_bottom5,\"\\n\")\n",
    "print(\"All Weights\\n\",\"\\n\", pca_wt2)"
   ]
  },
  {
   "cell_type": "markdown",
   "metadata": {},
   "source": [
    "### Discussion 2.3: Interpret Principal Components\n",
    "\n",
    "\n",
    "#### Principal Component 1<br/>\n",
    "The results regarding the top 5 values in PC#1 seem to indicate that the two macro-cell features have a positive correlation. PLZ8_ANTG3 and  PLZ8_ANTG4, show that when the share of the number of family homes increases in one region (G3) the other region will likely increase (G4). HH_EINKOMMEN_SCORE and WEALTH is interesting in that the higher the score shown on HH_EINKOMMEN_SCORE indicating estimated household net income, the higher the WEALTH category associated with poorer households increases.\n",
    "\n",
    "#### Principal Component 2<br/>\n",
    "ALTERSKATEGORIE_GROB (estimated age by given name analysis), SEMIO_REL(how strong one's affinity for religion is).  These two variables are interesting as one has a negative correlation to the other. One interpretation might possibly suggest that the older a person gets (ALTERSKATEGORIE_GROB, category 3, 4 increase) the higher their affinity for religion might be (SEMIO_REL, 1-3, decrease), but in reality this might be false.\n",
    "\n",
    "#### Principal Component 3<br/>\n",
    "Principal Component 3 has a majority of personality characteristics analyzed on both ends of the spectrum, as noted by the multiple SEMIO features. The traits that are associated with culture, dreamfulness, family-minded, and socially-minded contrast with the traits of domineering, critically-minded and combative attitudes, having a negative correlation. This might suggest the latter traits are not as socially minded as the others perhaps, but more research would be needed to make a valid hypothesis.\n"
   ]
  },
  {
   "cell_type": "markdown",
   "metadata": {},
   "source": [
    "## Step 3: Clustering\n",
    "\n",
    "### Step 3.1: Apply Clustering to General Population\n",
    "\n",
    "You've assessed and cleaned the demographics data, then scaled and transformed them. Now, it's time to see how the data clusters in the principal components space. In this substep, you will apply k-means clustering to the dataset and use the average within-cluster distances from each point to their assigned cluster's centroid to decide on a number of clusters to keep.\n",
    "\n",
    "- Use sklearn's [KMeans](http://scikit-learn.org/stable/modules/generated/sklearn.cluster.KMeans.html#sklearn.cluster.KMeans) class to perform k-means clustering on the PCA-transformed data.\n",
    "- Then, compute the average difference from each point to its assigned cluster's center. **Hint**: The KMeans object's `.score()` method might be useful here, but note that in sklearn, scores tend to be defined so that larger is better. Try applying it to a small, toy dataset, or use an internet search to help your understanding.\n",
    "- Perform the above two steps for a number of different cluster counts. You can then see how the average distance decreases with an increasing number of clusters. However, each additional cluster provides a smaller net benefit. Use this fact to select a final number of clusters in which to group the data. **Warning**: because of the large size of the dataset, it can take a long time for the algorithm to resolve. The more clusters to fit, the longer the algorithm will take. You should test for cluster counts through at least 10 clusters to get the full picture, but you shouldn't need to test for a number of clusters above about 30.\n",
    "- Once you've selected a final number of clusters to use, re-fit a KMeans instance to perform the clustering operation. Make sure that you also obtain the cluster assignments for the general demographics data, since you'll be using them in the final Step 3.3."
   ]
  },
  {
   "cell_type": "code",
   "execution_count": 114,
   "metadata": {},
   "outputs": [],
   "source": [
    "# KMeans score function\n",
    "\n",
    "def km_scores(data, num_clusters):\n",
    "#    instantiate\n",
    "    k_means = KMeans(n_clusters=num_clusters)\n",
    "#     fit model\n",
    "    km_model = k_means.fit(data)\n",
    "#     get score\n",
    "    km_score = np.abs(km_model.score(data))\n",
    "    return km_score   \n",
    "    \n",
    "    \n",
    "# Over a number of different cluster counts...\n",
    "scores = []\n",
    "ksc = list(range)\n",
    "\n",
    "\n",
    "    # run k-means clustering on the data and...\n",
    "    \n",
    "    \n",
    "    # compute the average within-cluster distances.\n",
    "    \n",
    "    "
   ]
  },
  {
   "cell_type": "code",
   "execution_count": 92,
   "metadata": {},
   "outputs": [],
   "source": [
    "# Investigate the change in within-cluster distance across number of clusters.\n",
    "# HINT: Use matplotlib's plot function to visualize this relationship.\n",
    "\n"
   ]
  },
  {
   "cell_type": "code",
   "execution_count": 93,
   "metadata": {},
   "outputs": [],
   "source": [
    "# Re-fit the k-means model with the selected number of clusters and obtain\n",
    "# cluster predictions for the general population demographics data.\n",
    "\n"
   ]
  },
  {
   "cell_type": "markdown",
   "metadata": {},
   "source": [
    "### Discussion 3.1: Apply Clustering to General Population\n",
    "\n",
    "(Double-click this cell and replace this text with your own text, reporting your findings and decisions regarding clustering. Into how many clusters have you decided to segment the population?)"
   ]
  },
  {
   "cell_type": "markdown",
   "metadata": {},
   "source": [
    "### Step 3.2: Apply All Steps to the Customer Data\n",
    "\n",
    "Now that you have clusters and cluster centers for the general population, it's time to see how the customer data maps on to those clusters. Take care to not confuse this for re-fitting all of the models to the customer data. Instead, you're going to use the fits from the general population to clean, transform, and cluster the customer data. In the last step of the project, you will interpret how the general population fits apply to the customer data.\n",
    "\n",
    "- Don't forget when loading in the customers data, that it is semicolon (`;`) delimited.\n",
    "- Apply the same feature wrangling, selection, and engineering steps to the customer demographics using the `clean_data()` function you created earlier. (You can assume that the customer demographics data has similar meaning behind missing data patterns as the general demographics data.)\n",
    "- Use the sklearn objects from the general demographics data, and apply their transformations to the customers data. That is, you should not be using a `.fit()` or `.fit_transform()` method to re-fit the old objects, nor should you be creating new sklearn objects! Carry the data through the feature scaling, PCA, and clustering steps, obtaining cluster assignments for all of the data in the customer demographics data."
   ]
  },
  {
   "cell_type": "code",
   "execution_count": 94,
   "metadata": {},
   "outputs": [
    {
     "ename": "SyntaxError",
     "evalue": "invalid syntax (<ipython-input-94-416d584d1460>, line 2)",
     "output_type": "error",
     "traceback": [
      "\u001b[0;36m  File \u001b[0;32m\"<ipython-input-94-416d584d1460>\"\u001b[0;36m, line \u001b[0;32m2\u001b[0m\n\u001b[0;31m    customers =\u001b[0m\n\u001b[0m                ^\u001b[0m\n\u001b[0;31mSyntaxError\u001b[0m\u001b[0;31m:\u001b[0m invalid syntax\n"
     ]
    }
   ],
   "source": [
    "# Load in the customer demographics data.\n",
    "customers = "
   ]
  },
  {
   "cell_type": "code",
   "execution_count": null,
   "metadata": {},
   "outputs": [],
   "source": [
    "# Apply preprocessing, feature transformation, and clustering from the general\n",
    "# demographics onto the customer data, obtaining cluster predictions for the\n",
    "# customer demographics data.\n",
    "\n"
   ]
  },
  {
   "cell_type": "markdown",
   "metadata": {},
   "source": [
    "### Step 3.3: Compare Customer Data to Demographics Data\n",
    "\n",
    "At this point, you have clustered data based on demographics of the general population of Germany, and seen how the customer data for a mail-order sales company maps onto those demographic clusters. In this final substep, you will compare the two cluster distributions to see where the strongest customer base for the company is.\n",
    "\n",
    "Consider the proportion of persons in each cluster for the general population, and the proportions for the customers. If we think the company's customer base to be universal, then the cluster assignment proportions should be fairly similar between the two. If there are only particular segments of the population that are interested in the company's products, then we should see a mismatch from one to the other. If there is a higher proportion of persons in a cluster for the customer data compared to the general population (e.g. 5% of persons are assigned to a cluster for the general population, but 15% of the customer data is closest to that cluster's centroid) then that suggests the people in that cluster to be a target audience for the company. On the other hand, the proportion of the data in a cluster being larger in the general population than the customer data (e.g. only 2% of customers closest to a population centroid that captures 6% of the data) suggests that group of persons to be outside of the target demographics.\n",
    "\n",
    "Take a look at the following points in this step:\n",
    "\n",
    "- Compute the proportion of data points in each cluster for the general population and the customer data. Visualizations will be useful here: both for the individual dataset proportions, but also to visualize the ratios in cluster representation between groups. Seaborn's [`countplot()`](https://seaborn.pydata.org/generated/seaborn.countplot.html) or [`barplot()`](https://seaborn.pydata.org/generated/seaborn.barplot.html) function could be handy.\n",
    "  - Recall the analysis you performed in step 1.1.3 of the project, where you separated out certain data points from the dataset if they had more than a specified threshold of missing values. If you found that this group was qualitatively different from the main bulk of the data, you should treat this as an additional data cluster in this analysis. Make sure that you account for the number of data points in this subset, for both the general population and customer datasets, when making your computations!\n",
    "- Which cluster or clusters are overrepresented in the customer dataset compared to the general population? Select at least one such cluster and infer what kind of people might be represented by that cluster. Use the principal component interpretations from step 2.3 or look at additional components to help you make this inference. Alternatively, you can use the `.inverse_transform()` method of the PCA and StandardScaler objects to transform centroids back to the original data space and interpret the retrieved values directly.\n",
    "- Perform a similar investigation for the underrepresented clusters. Which cluster or clusters are underrepresented in the customer dataset compared to the general population, and what kinds of people are typified by these clusters?"
   ]
  },
  {
   "cell_type": "code",
   "execution_count": null,
   "metadata": {},
   "outputs": [],
   "source": [
    "# Compare the proportion of data in each cluster for the customer data to the\n",
    "# proportion of data in each cluster for the general population.\n",
    "\n"
   ]
  },
  {
   "cell_type": "code",
   "execution_count": null,
   "metadata": {},
   "outputs": [],
   "source": [
    "# What kinds of people are part of a cluster that is overrepresented in the\n",
    "# customer data compared to the general population?\n",
    "\n"
   ]
  },
  {
   "cell_type": "code",
   "execution_count": null,
   "metadata": {},
   "outputs": [],
   "source": [
    "# What kinds of people are part of a cluster that is underrepresented in the\n",
    "# customer data compared to the general population?\n",
    "\n"
   ]
  },
  {
   "cell_type": "markdown",
   "metadata": {},
   "source": [
    "### Discussion 3.3: Compare Customer Data to Demographics Data\n",
    "\n",
    "(Double-click this cell and replace this text with your own text, reporting findings and conclusions from the clustering analysis. Can we describe segments of the population that are relatively popular with the mail-order company, or relatively unpopular with the company?)"
   ]
  },
  {
   "cell_type": "markdown",
   "metadata": {},
   "source": [
    "> Congratulations on making it this far in the project! Before you finish, make sure to check through the entire notebook from top to bottom to make sure that your analysis follows a logical flow and all of your findings are documented in **Discussion** cells. Once you've checked over all of your work, you should export the notebook as an HTML document to submit for evaluation. You can do this from the menu, navigating to **File -> Download as -> HTML (.html)**. You will submit both that document and this notebook for your project submission."
   ]
  },
  {
   "cell_type": "code",
   "execution_count": null,
   "metadata": {},
   "outputs": [],
   "source": []
  }
 ],
 "metadata": {
  "kernelspec": {
   "display_name": "Python 3",
   "language": "python",
   "name": "python3"
  },
  "language_info": {
   "codemirror_mode": {
    "name": "ipython",
    "version": 3
   },
   "file_extension": ".py",
   "mimetype": "text/x-python",
   "name": "python",
   "nbconvert_exporter": "python",
   "pygments_lexer": "ipython3",
   "version": "3.6.3"
  }
 },
 "nbformat": 4,
 "nbformat_minor": 2
}
